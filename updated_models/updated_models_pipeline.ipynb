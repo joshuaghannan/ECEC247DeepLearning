{
  "nbformat": 4,
  "nbformat_minor": 0,
  "metadata": {
    "orig_nbformat": 2,
    "file_extension": ".py",
    "mimetype": "text/x-python",
    "name": "python",
    "npconvert_exporter": "python",
    "pygments_lexer": "ipython3",
    "version": 3,
    "kernelspec": {
      "name": "python3",
      "display_name": "Python 3"
    },
    "colab": {
      "name": "colab_version_clean_pipeline.ipynb",
      "provenance": [],
      "collapsed_sections": []
    },
    "accelerator": "GPU"
  },
  "cells": [
    {
      "cell_type": "markdown",
      "metadata": {
        "id": "JA1x8mSiTyYL",
        "colab_type": "text"
      },
      "source": [
        "### loading modules and data"
      ]
    },
    {
      "cell_type": "code",
      "metadata": {
        "id": "KQwpQEszAQ9u",
        "colab_type": "code",
        "outputId": "2451ea89-860b-45ce-ff81-5c443a860a68",
        "colab": {
          "base_uri": "https://localhost:8080/",
          "height": 122
        }
      },
      "source": [
        "########################################################\n",
        "\n",
        "# If running with Google Colab\n",
        "\n",
        "from google.colab import drive\n",
        "drive.mount('/content/gdrive')"
      ],
      "execution_count": 0,
      "outputs": [
        {
          "output_type": "stream",
          "text": [
            "Go to this URL in a browser: https://accounts.google.com/o/oauth2/auth?client_id=947318989803-6bn6qk8qdgf4n4g3pfee6491hc0brc4i.apps.googleusercontent.com&redirect_uri=urn%3aietf%3awg%3aoauth%3a2.0%3aoob&response_type=code&scope=email%20https%3a%2f%2fwww.googleapis.com%2fauth%2fdocs.test%20https%3a%2f%2fwww.googleapis.com%2fauth%2fdrive%20https%3a%2f%2fwww.googleapis.com%2fauth%2fdrive.photos.readonly%20https%3a%2f%2fwww.googleapis.com%2fauth%2fpeopleapi.readonly\n",
            "\n",
            "Enter your authorization code:\n",
            "··········\n",
            "Mounted at /content/gdrive\n"
          ],
          "name": "stdout"
        }
      ]
    },
    {
      "cell_type": "code",
      "metadata": {
        "id": "g6iA6D4yYwiq",
        "colab_type": "code",
        "colab": {}
      },
      "source": [
        "# # If using colab\n",
        "# from google.colab import files\n",
        "# files.upload()\n",
        "# # select the 3 .py files (models, utils, data_utils)"
      ],
      "execution_count": 0,
      "outputs": []
    },
    {
      "cell_type": "code",
      "metadata": {
        "id": "E-S67grVAoSt",
        "colab_type": "code",
        "outputId": "c26f2ffb-8a65-482b-96b9-2c4b06bcc984",
        "colab": {
          "base_uri": "https://localhost:8080/",
          "height": 68
        }
      },
      "source": [
        "########################################################\n",
        "\n",
        "# If running with Google Colab\n",
        "# Create a folder \"C247\" and then store the project datasets within that folder\n",
        "# Check that your datasets are setup correctly\n",
        "\n",
        "!ls \"/content/gdrive/My Drive/C247\" # File path"
      ],
      "execution_count": 0,
      "outputs": [
        {
          "output_type": "stream",
          "text": [
            "EEG_loading.ipynb\tPyTorch_Experiments.ipynb  X_train_valid.npy\n",
            "person_test.npy\t\tpytorch_rnn_example.ipynb  y_test.npy\n",
            "person_train_valid.npy\tX_test.npy\t\t   y_train_valid.npy\n"
          ],
          "name": "stdout"
        }
      ]
    },
    {
      "cell_type": "code",
      "metadata": {
        "id": "-jkt1ZNZWIhi",
        "colab_type": "code",
        "outputId": "e74af17c-0996-4dcb-8e10-20a1858e6d10",
        "colab": {
          "base_uri": "https://localhost:8080/",
          "height": 34
        }
      },
      "source": [
        "from models import *\n",
        "from utils import *\n",
        "from data_utils import *"
      ],
      "execution_count": 0,
      "outputs": [
        {
          "output_type": "stream",
          "text": [
            "GPU is available\n"
          ],
          "name": "stdout"
        }
      ]
    },
    {
      "cell_type": "code",
      "metadata": {
        "id": "TJfyBLNLA686",
        "colab_type": "code",
        "outputId": "7dbfc66b-f700-4582-c6d8-2bf8d631fc7e",
        "colab": {
          "base_uri": "https://localhost:8080/",
          "height": 119
        }
      },
      "source": [
        "# X_test = np.load(\"X_test.npy\")\n",
        "# y_test = np.load(\"y_test.npy\")\n",
        "# person_train_valid = np.load(\"person_train_valid.npy\")\n",
        "# X_train_valid = np.load(\"X_train_valid.npy\")\n",
        "# y_train_valid = np.load(\"y_train_valid.npy\")\n",
        "# person_test = np.load(\"person_test.npy\")\n",
        "\n",
        "# Change if your directory is different\n",
        "\n",
        "# dataset_path = './data/' # Yiming Path\n",
        "dataset_path = \"/content/gdrive/My Drive/C247/\" \n",
        "\n",
        "X_test = np.load(dataset_path + \"X_test.npy\")\n",
        "y_test = np.load(dataset_path + \"y_test.npy\")\n",
        "person_train_valid = np.load(dataset_path + \"person_train_valid.npy\")\n",
        "X_train_valid = np.load(dataset_path + \"X_train_valid.npy\")\n",
        "y_train_valid = np.load(dataset_path + \"y_train_valid.npy\")\n",
        "person_test = np.load(dataset_path + \"person_test.npy\")\n",
        "print ('Training/Valid data shape: {}'.format(X_train_valid.shape))\n",
        "print ('Test data shape: {}'.format(X_test.shape))\n",
        "print ('Training/Valid target shape: {}'.format(y_train_valid.shape))\n",
        "print ('Test target shape: {}'.format(y_test.shape))\n",
        "print ('Person train/valid shape: {}'.format(person_train_valid.shape))\n",
        "print ('Person test shape: {}'.format(person_test.shape))\n",
        "\n",
        "train_fold, val_fold = Train_Val_Data(X_train_valid, y_train_valid)\n"
      ],
      "execution_count": 0,
      "outputs": [
        {
          "output_type": "stream",
          "text": [
            "Training/Valid data shape: (2115, 22, 1000)\n",
            "Test data shape: (443, 22, 1000)\n",
            "Training/Valid target shape: (2115,)\n",
            "Test target shape: (443,)\n",
            "Person train/valid shape: (2115, 1)\n",
            "Person test shape: (443, 1)\n"
          ],
          "name": "stdout"
        }
      ]
    },
    {
      "cell_type": "markdown",
      "metadata": {
        "id": "90IvaY2LTyY1",
        "colab_type": "text"
      },
      "source": [
        "### K-Fold Training and Validation (use k=1 to get results faster)"
      ]
    },
    {
      "cell_type": "code",
      "metadata": {
        "id": "nmJd_5kbTyY2",
        "colab_type": "code",
        "outputId": "618a1142-8115-4d41-baba-7f9e546a699a",
        "colab": {
          "base_uri": "https://localhost:8080/",
          "height": 527
        }
      },
      "source": [
        "# setting up the data augmentation here\n",
        "aug_type = \"window\"\n",
        "window_size = 200\n",
        "vote_num = 20\n",
        "num_folds = 1\n",
        "num_epochs = 20\n",
        "\n",
        "for k in range(num_folds):\n",
        "    # indicate hyperparameters here\n",
        "    model, criterion, optimizer = InitRNN(rnn_type='CNNGRUnet', dropout=0.6, weight_decay=1e-4)\n",
        "    print ('fold {}'.format(k+1))\n",
        "    X_train, y_train, p_train = X_train_valid[train_fold[k]], y_train_valid[train_fold[k]], person_train_valid[train_fold[k]]\n",
        "    X_val, y_val, p_val = X_train_valid[val_fold[k]], y_train_valid[val_fold[k]], person_train_valid[val_fold[k]]\n",
        "    X_train, y_train, p_train = Aug_Data(X_train, y_train, p_train, aug_type=aug_type, window_size=window_size)\n",
        "    if aug_type != 'window':\n",
        "        X_val, y_val, p_val = Aug_Data(X_val, y_val, p_val, aug_type=aug_type)\n",
        "    EEG_trainset = EEG_Dataset(X_train=X_train, y_train=y_train, p_train=p_train, mode='train')\n",
        "    EEG_trainloader = DataLoader(EEG_trainset, batch_size=128, shuffle=True)\n",
        "    EEG_valset = EEG_Dataset(X_val=X_val, y_val=y_val, p_val=p_val, mode='val')\n",
        "    EEG_valloader = DataLoader(EEG_valset, batch_size=128, shuffle=False)\n",
        "    best_model = TrainValRNN(model, criterion, optimizer, EEG_trainloader, EEG_valloader, num_epochs=num_epochs, aug_type=aug_type, window_size=window_size, vote_num=vote_num)\n"
      ],
      "execution_count": 0,
      "outputs": [
        {
          "output_type": "stream",
          "text": [
            "RNN TYPE: CNNGRUnet\n",
            "WEIGHT DECAY: 0.0001\n",
            "LEARNING RATE: 0.001\n",
            "fold 1\n",
            "epoch: 1      time: 23.91    loss: 728.941    train acc: 0.282    val acc: 0.305\n",
            "saving best model...\n",
            "epoch: 2      time: 20.89    loss: 705.974    train acc: 0.344    val acc: 0.381\n",
            "saving best model...\n",
            "epoch: 3      time: 21.55    loss: 672.351    train acc: 0.405    val acc: 0.414\n",
            "saving best model...\n",
            "epoch: 4      time: 20.06    loss: 645.268    train acc: 0.442    val acc: 0.449\n",
            "saving best model...\n",
            "epoch: 5      time: 20.01    loss: 623.253    train acc: 0.471    val acc: 0.473\n",
            "saving best model...\n",
            "epoch: 6      time: 19.94    loss: 602.483    train acc: 0.494    val acc: 0.449\n",
            "epoch: 7      time: 18.77    loss: 584.839    train acc: 0.514    val acc: 0.421\n",
            "epoch: 8      time: 19.78    loss: 564.787    train acc: 0.537    val acc: 0.433\n",
            "epoch: 9      time: 19.50    loss: 543.462    train acc: 0.558    val acc: 0.447\n",
            "epoch: 10     time: 19.55    loss: 524.342    train acc: 0.578    val acc: 0.433\n",
            "epoch: 11     time: 20.49    loss: 503.992    train acc: 0.598    val acc: 0.444\n",
            "epoch: 12     time: 19.58    loss: 480.015    train acc: 0.622    val acc: 0.414\n",
            "epoch: 13     time: 21.02    loss: 459.187    train acc: 0.640    val acc: 0.473\n",
            "saving best model...\n",
            "epoch: 14     time: 19.84    loss: 436.936    train acc: 0.660    val acc: 0.456\n",
            "epoch: 15     time: 20.04    loss: 419.041    train acc: 0.675    val acc: 0.463\n",
            "epoch: 16     time: 19.88    loss: 400.228    train acc: 0.691    val acc: 0.437\n",
            "epoch: 17     time: 19.29    loss: 381.214    train acc: 0.708    val acc: 0.463\n",
            "epoch: 18     time: 20.84    loss: 364.745    train acc: 0.723    val acc: 0.442\n",
            "epoch: 19     time: 19.81    loss: 347.667    train acc: 0.736    val acc: 0.442\n",
            "epoch: 20     time: 19.49    loss: 332.498    train acc: 0.748    val acc: 0.468\n"
          ],
          "name": "stdout"
        }
      ]
    },
    {
      "cell_type": "markdown",
      "metadata": {
        "id": "5yGSJZ62TyY7",
        "colab_type": "text"
      },
      "source": [
        "### Training and Testing"
      ]
    },
    {
      "cell_type": "code",
      "metadata": {
        "id": "PT9IdrogTyY9",
        "colab_type": "code",
        "outputId": "90f1feb1-4957-44f0-c9f0-04bd98f72668",
        "colab": {
          "base_uri": "https://localhost:8080/",
          "height": 34
        }
      },
      "source": [
        "TestRNN(model, X_test, y_test, person_test, aug_type=aug_type, window_size=window_size, vote_num=vote_num)"
      ],
      "execution_count": 0,
      "outputs": [
        {
          "output_type": "stream",
          "text": [
            "Testing Accuracy: 0.4786\n"
          ],
          "name": "stdout"
        }
      ]
    }
  ]
}