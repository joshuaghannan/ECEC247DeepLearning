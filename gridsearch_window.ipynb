{
 "cells": [
  {
   "cell_type": "code",
   "execution_count": 1,
   "metadata": {},
   "outputs": [
    {
     "name": "stdout",
     "output_type": "stream",
     "text": "GPU is available\nTraining/Valid data shape: (2115, 22, 1000)\nTest data shape: (443, 22, 1000)\nTraining/Valid target shape: (2115,)\nTest target shape: (443,)\nPerson train/valid shape: (2115, 1)\nPerson test shape: (443, 1)\n"
    }
   ],
   "source": [
    "from models import *\n",
    "from utils import *\n",
    "from data_utils import *\n",
    "import pandas as pd \n",
    "pd.set_option(\"display.precision\", 2) # set the precision to 2 decimals\n",
    "\n",
    "dataset_path = './data/'\n",
    "X_train_valid = np.load(dataset_path + \"X_train_valid.npy\")\n",
    "y_train_valid = np.load(dataset_path + \"y_train_valid.npy\")\n",
    "person_train_valid = np.load(dataset_path + \"person_train_valid.npy\")\n",
    "X_test = np.load(dataset_path + \"X_test.npy\")\n",
    "y_test = np.load(dataset_path + \"y_test.npy\")\n",
    "person_test = np.load(dataset_path + \"person_test.npy\")\n",
    "print ('Training/Valid data shape: {}'.format(X_train_valid.shape))\n",
    "print ('Test data shape: {}'.format(X_test.shape))\n",
    "print ('Training/Valid target shape: {}'.format(y_train_valid.shape))\n",
    "print ('Test target shape: {}'.format(y_test.shape))\n",
    "print ('Person train/valid shape: {}'.format(person_train_valid.shape))\n",
    "print ('Person test shape: {}'.format(person_test.shape))\n",
    "\n",
    "train_fold, val_fold = Train_Val_Data(X_train_valid, y_train_valid)"
   ]
  },
  {
   "cell_type": "code",
   "execution_count": 2,
   "metadata": {},
   "outputs": [
    {
     "name": "stdout",
     "output_type": "stream",
     "text": "starting grid search...\n\n--------------------------------------------------\nStride: 20\nsaving best model...\nsaving best model...\nsaving best model...\nsaving best model...\nsaving best model...\nsaving best model...\nsaving best model...\nsaving best model...\nsaving best model...\ntest acc: 0.4244  sub test acc: 0.4600\nsaving best model...\nsaving best model...\nsaving best model...\nsaving best model...\nsaving best model...\nsaving best model...\nsaving best model...\ntest acc: 0.5169  sub test acc: 0.4400\nsaving best model...\nsaving best model...\nsaving best model...\ntest acc: 0.4808  sub test acc: 0.4200\nsaving best model...\nsaving best model...\nsaving best model...\nsaving best model...\nsaving best model...\ntest acc: 0.3837  sub test acc: 0.4600\nsaving best model...\nsaving best model...\nsaving best model...\nsaving best model...\nsaving best model...\nsaving best model...\nsaving best model...\nsaving best model...\nsaving best model...\nsaving best model...\nsaving best model...\nsaving best model...\ntest acc: 0.3002  sub test acc: 0.3600\nsaving best model...\nsaving best model...\nsaving best model...\nsaving best model...\nsaving best model...\nsaving best model...\nsaving best model...\nsaving best model...\ntest acc: 0.3431  sub test acc: 0.3400\n"
    },
    {
     "data": {
      "text/html": "<div>\n<style scoped>\n    .dataframe tbody tr th:only-of-type {\n        vertical-align: middle;\n    }\n\n    .dataframe tbody tr th {\n        vertical-align: top;\n    }\n\n    .dataframe thead th {\n        text-align: right;\n    }\n</style>\n<table border=\"1\" class=\"dataframe\">\n  <thead>\n    <tr style=\"text-align: right;\">\n      <th></th>\n      <th>Window Size</th>\n      <th>Test Accuracy</th>\n      <th>Subject1 Test Accuracy</th>\n    </tr>\n  </thead>\n  <tbody>\n    <tr>\n      <th>0</th>\n      <td>100</td>\n      <td>42.44</td>\n      <td>46.0</td>\n    </tr>\n    <tr>\n      <th>1</th>\n      <td>200</td>\n      <td>51.69</td>\n      <td>44.0</td>\n    </tr>\n    <tr>\n      <th>2</th>\n      <td>300</td>\n      <td>48.08</td>\n      <td>42.0</td>\n    </tr>\n    <tr>\n      <th>3</th>\n      <td>500</td>\n      <td>38.37</td>\n      <td>46.0</td>\n    </tr>\n    <tr>\n      <th>4</th>\n      <td>750</td>\n      <td>30.02</td>\n      <td>36.0</td>\n    </tr>\n    <tr>\n      <th>5</th>\n      <td>900</td>\n      <td>34.31</td>\n      <td>34.0</td>\n    </tr>\n  </tbody>\n</table>\n</div>",
      "text/plain": "   Window Size  Test Accuracy  Subject1 Test Accuracy\n0          100          42.44                    46.0\n1          200          51.69                    44.0\n2          300          48.08                    42.0\n3          500          38.37                    46.0\n4          750          30.02                    36.0\n5          900          34.31                    34.0"
     },
     "metadata": {},
     "output_type": "display_data"
    },
    {
     "name": "stdout",
     "output_type": "stream",
     "text": "\n\n--------------------------------------------------\nStride: 50\nsaving best model...\nsaving best model...\nsaving best model...\nsaving best model...\nsaving best model...\nsaving best model...\ntest acc: 0.4221  sub test acc: 0.4000\nsaving best model...\nsaving best model...\nsaving best model...\nsaving best model...\nsaving best model...\nsaving best model...\nsaving best model...\nsaving best model...\nsaving best model...\nsaving best model...\nsaving best model...\ntest acc: 0.4966  sub test acc: 0.5200\nsaving best model...\nsaving best model...\nsaving best model...\nsaving best model...\nsaving best model...\ntest acc: 0.4560  sub test acc: 0.3400\nsaving best model...\nsaving best model...\nsaving best model...\nsaving best model...\nsaving best model...\nsaving best model...\nsaving best model...\nsaving best model...\nsaving best model...\ntest acc: 0.4492  sub test acc: 0.4800\nsaving best model...\nsaving best model...\nsaving best model...\nsaving best model...\nsaving best model...\nsaving best model...\nsaving best model...\nsaving best model...\nsaving best model...\nsaving best model...\ntest acc: 0.2551  sub test acc: 0.2800\nsaving best model...\nsaving best model...\nsaving best model...\nsaving best model...\ntest acc: 0.2709  sub test acc: 0.3200\n"
    },
    {
     "data": {
      "text/html": "<div>\n<style scoped>\n    .dataframe tbody tr th:only-of-type {\n        vertical-align: middle;\n    }\n\n    .dataframe tbody tr th {\n        vertical-align: top;\n    }\n\n    .dataframe thead th {\n        text-align: right;\n    }\n</style>\n<table border=\"1\" class=\"dataframe\">\n  <thead>\n    <tr style=\"text-align: right;\">\n      <th></th>\n      <th>Window Size</th>\n      <th>Test Accuracy</th>\n      <th>Subject1 Test Accuracy</th>\n    </tr>\n  </thead>\n  <tbody>\n    <tr>\n      <th>0</th>\n      <td>100</td>\n      <td>42.21</td>\n      <td>40.0</td>\n    </tr>\n    <tr>\n      <th>1</th>\n      <td>200</td>\n      <td>49.66</td>\n      <td>52.0</td>\n    </tr>\n    <tr>\n      <th>2</th>\n      <td>300</td>\n      <td>45.60</td>\n      <td>34.0</td>\n    </tr>\n    <tr>\n      <th>3</th>\n      <td>500</td>\n      <td>44.92</td>\n      <td>48.0</td>\n    </tr>\n    <tr>\n      <th>4</th>\n      <td>750</td>\n      <td>25.51</td>\n      <td>28.0</td>\n    </tr>\n    <tr>\n      <th>5</th>\n      <td>900</td>\n      <td>27.09</td>\n      <td>32.0</td>\n    </tr>\n  </tbody>\n</table>\n</div>",
      "text/plain": "   Window Size  Test Accuracy  Subject1 Test Accuracy\n0          100          42.21                    40.0\n1          200          49.66                    52.0\n2          300          45.60                    34.0\n3          500          44.92                    48.0\n4          750          25.51                    28.0\n5          900          27.09                    32.0"
     },
     "metadata": {},
     "output_type": "display_data"
    },
    {
     "name": "stdout",
     "output_type": "stream",
     "text": "\n\n--------------------------------------------------\nStride: 100\nsaving best model...\nsaving best model...\nsaving best model...\nsaving best model...\nsaving best model...\nsaving best model...\ntest acc: 0.4402  sub test acc: 0.4600\nsaving best model...\nsaving best model...\nsaving best model...\nsaving best model...\nsaving best model...\nsaving best model...\nsaving best model...\nsaving best model...\nsaving best model...\nsaving best model...\ntest acc: 0.4786  sub test acc: 0.3800\nsaving best model...\nsaving best model...\nsaving best model...\nsaving best model...\nsaving best model...\nsaving best model...\nsaving best model...\nsaving best model...\nsaving best model...\nsaving best model...\nsaving best model...\ntest acc: 0.4447  sub test acc: 0.4400\nsaving best model...\nsaving best model...\nsaving best model...\nsaving best model...\nsaving best model...\nsaving best model...\nsaving best model...\ntest acc: 0.3409  sub test acc: 0.4400\nsaving best model...\nsaving best model...\nsaving best model...\nsaving best model...\nsaving best model...\nsaving best model...\ntest acc: 0.2912  sub test acc: 0.2800\nsaving best model...\nsaving best model...\nsaving best model...\ntest acc: 0.2799  sub test acc: 0.2600\n"
    },
    {
     "data": {
      "text/html": "<div>\n<style scoped>\n    .dataframe tbody tr th:only-of-type {\n        vertical-align: middle;\n    }\n\n    .dataframe tbody tr th {\n        vertical-align: top;\n    }\n\n    .dataframe thead th {\n        text-align: right;\n    }\n</style>\n<table border=\"1\" class=\"dataframe\">\n  <thead>\n    <tr style=\"text-align: right;\">\n      <th></th>\n      <th>Window Size</th>\n      <th>Test Accuracy</th>\n      <th>Subject1 Test Accuracy</th>\n    </tr>\n  </thead>\n  <tbody>\n    <tr>\n      <th>0</th>\n      <td>100</td>\n      <td>44.02</td>\n      <td>46.0</td>\n    </tr>\n    <tr>\n      <th>1</th>\n      <td>200</td>\n      <td>47.86</td>\n      <td>38.0</td>\n    </tr>\n    <tr>\n      <th>2</th>\n      <td>300</td>\n      <td>44.47</td>\n      <td>44.0</td>\n    </tr>\n    <tr>\n      <th>3</th>\n      <td>500</td>\n      <td>34.09</td>\n      <td>44.0</td>\n    </tr>\n    <tr>\n      <th>4</th>\n      <td>750</td>\n      <td>29.12</td>\n      <td>28.0</td>\n    </tr>\n    <tr>\n      <th>5</th>\n      <td>900</td>\n      <td>27.99</td>\n      <td>26.0</td>\n    </tr>\n  </tbody>\n</table>\n</div>",
      "text/plain": "   Window Size  Test Accuracy  Subject1 Test Accuracy\n0          100          44.02                    46.0\n1          200          47.86                    38.0\n2          300          44.47                    44.0\n3          500          34.09                    44.0\n4          750          29.12                    28.0\n5          900          27.99                    26.0"
     },
     "metadata": {},
     "output_type": "display_data"
    },
    {
     "name": "stdout",
     "output_type": "stream",
     "text": "\n\n"
    }
   ],
   "source": [
    "aug_type = \"window\"\n",
    "strides = [20, 50, 100]\n",
    "window_sizes = [100, 200, 300, 500, 750, 900]\n",
    "vote_num = 20 # Make 20 normally\n",
    "num_folds = 1\n",
    "num_epochs = 20\n",
    "\n",
    "print('starting grid search...\\n')\n",
    "for stride in strides:\n",
    "\n",
    "  print('--------------------------------------------------')\n",
    "  print('Stride: {}'.format(stride))\n",
    "  # print('----------')\n",
    "\n",
    "  test_accs = []\n",
    "  sub_test_accs = []\n",
    "  for window_size in window_sizes:\n",
    "    for k in range(num_folds):\n",
    "        # indicate hyperparameters here\n",
    "        model, criterion, optimizer = InitRNN(rnn_type='CNNGRU', dropout=0.6, weight_decay=0.00001)\n",
    "        # print ('fold {}'.format(k+1))\n",
    "        \n",
    "        # Uncomment for just windowing\n",
    "        X_train, y_train, p_train = X_train_valid[train_fold[k]], y_train_valid[train_fold[k]], person_train_valid[train_fold[k]]\n",
    "        X_val, y_val, p_val = X_train_valid[val_fold[k]], y_train_valid[val_fold[k]], person_train_valid[val_fold[k]]\n",
    "\n",
    "        # Uncomment for cwt\n",
    "        # X_train, y_train, p_train = X_cwt[train_fold[k]], y_cwt[train_fold[k]], p_cwt[train_fold[k]]\n",
    "        # X_val, y_val, p_val = X_cwt[val_fold[k]], y_cwt[val_fold[k]], p_cwt[val_fold[k]]\n",
    "\n",
    "        X_train, y_train, p_train = Aug_Data(X_train, y_train, p_train, aug_type=aug_type, window_size=window_size, window_stride=stride)\n",
    "        if aug_type != 'window':\n",
    "            X_val, y_val, p_val = Aug_Data(X_val, y_val, p_val, aug_type=aug_type)\n",
    "        EEG_trainset = EEG_Dataset(X_train=X_train, y_train=y_train, p_train=p_train, mode='train')\n",
    "        EEG_trainloader = DataLoader(EEG_trainset, batch_size=128, shuffle=True)\n",
    "        EEG_valset = EEG_Dataset(X_val=X_val, y_val=y_val, p_val=p_val, mode='val')\n",
    "        EEG_valloader = DataLoader(EEG_valset, batch_size=128, shuffle=False)\n",
    "        best_model = TrainValRNN(model, criterion, optimizer, EEG_trainloader, EEG_valloader, num_epochs=num_epochs, aug_type=aug_type, window_size=window_size, vote_num=vote_num, verbose=False)\n",
    "\n",
    "    test_acc, sub_test_acc = TestRNN(model, X_test, y_test, person_test, aug_type=aug_type, window_size=window_size, vote_num=vote_num)\n",
    "    test_accs.append(100 * test_acc)\n",
    "    sub_test_accs.append(100 * sub_test_acc)\n",
    "  \n",
    "  df = pd.DataFrame(list(zip(window_sizes, test_accs, sub_test_accs)), columns = ['Window Size', 'Test Accuracy', 'Subject1 Test Accuracy']) \n",
    "  display(df)\n",
    "  print('\\n')\n",
    "\n"
   ]
  },
  {
   "cell_type": "code",
   "execution_count": null,
   "metadata": {},
   "outputs": [],
   "source": []
  }
 ],
 "metadata": {
  "file_extension": ".py",
  "kernelspec": {
   "display_name": "Python 3.6.10 64-bit ('ee247': conda)",
   "language": "python",
   "name": "python361064bitee247conda874057864ab545a7a9b7751cc5dbcd55"
  },
  "language_info": {
   "codemirror_mode": {
    "name": "ipython",
    "version": 3
   },
   "file_extension": ".py",
   "mimetype": "text/x-python",
   "name": "python",
   "nbconvert_exporter": "python",
   "pygments_lexer": "ipython3",
   "version": "3.6.10-final"
  },
  "mimetype": "text/x-python",
  "name": "python",
  "npconvert_exporter": "python",
  "pygments_lexer": "ipython3",
  "version": 3
 },
 "nbformat": 4,
 "nbformat_minor": 2
}