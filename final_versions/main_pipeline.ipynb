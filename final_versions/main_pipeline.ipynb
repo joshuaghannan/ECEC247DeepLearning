{
  "nbformat": 4,
  "nbformat_minor": 0,
  "metadata": {
    "orig_nbformat": 2,
    "file_extension": ".py",
    "mimetype": "text/x-python",
    "name": "python",
    "npconvert_exporter": "python",
    "pygments_lexer": "ipython3",
    "version": 3,
    "kernelspec": {
      "name": "python3",
      "display_name": "Python 3"
    },
    "colab": {
      "name": "main_pipeline",
      "provenance": [],
      "collapsed_sections": [],
      "machine_shape": "hm"
    },
    "accelerator": "GPU"
  },
  "cells": [
    {
      "cell_type": "markdown",
      "metadata": {
        "id": "JA1x8mSiTyYL",
        "colab_type": "text"
      },
      "source": [
        "### loading modules and data"
      ]
    },
    {
      "cell_type": "code",
      "metadata": {
        "id": "KQwpQEszAQ9u",
        "colab_type": "code",
        "outputId": "4979d6f5-c94d-4414-fef8-99c7990e8d9b",
        "colab": {
          "base_uri": "https://localhost:8080/",
          "height": 34
        }
      },
      "source": [
        "########################################################\n",
        "\n",
        "# If running with Google Colab\n",
        "\n",
        "from google.colab import drive\n",
        "drive.mount('/content/gdrive')"
      ],
      "execution_count": 0,
      "outputs": [
        {
          "output_type": "stream",
          "text": [
            "Drive already mounted at /content/gdrive; to attempt to forcibly remount, call drive.mount(\"/content/gdrive\", force_remount=True).\n"
          ],
          "name": "stdout"
        }
      ]
    },
    {
      "cell_type": "code",
      "metadata": {
        "id": "g6iA6D4yYwiq",
        "colab_type": "code",
        "colab": {}
      },
      "source": [
        "# # If using colab\n",
        "# from google.colab import files\n",
        "# files.upload()\n",
        "# # select the 3 .py files (models, utils, data_utils)"
      ],
      "execution_count": 0,
      "outputs": []
    },
    {
      "cell_type": "code",
      "metadata": {
        "id": "E-S67grVAoSt",
        "colab_type": "code",
        "outputId": "42c58c60-b66e-4afc-d290-f5f08ce92a7d",
        "colab": {
          "base_uri": "https://localhost:8080/",
          "height": 68
        }
      },
      "source": [
        "########################################################\n",
        "\n",
        "# If running with Google Colab\n",
        "# Create a folder \"C247\" and then store the project datasets within that folder\n",
        "# Check that your datasets are setup correctly\n",
        "\n",
        "!ls \"/content/gdrive/My Drive/C247\" # File path"
      ],
      "execution_count": 0,
      "outputs": [
        {
          "output_type": "stream",
          "text": [
            "EEG_loading.ipynb\tPyTorch_Experiments.ipynb  X_train_valid.npy\n",
            "person_test.npy\t\tpytorch_rnn_example.ipynb  y_test.npy\n",
            "person_train_valid.npy\tX_test.npy\t\t   y_train_valid.npy\n"
          ],
          "name": "stdout"
        }
      ]
    },
    {
      "cell_type": "code",
      "metadata": {
        "id": "-jkt1ZNZWIhi",
        "colab_type": "code",
        "outputId": "0008c5f1-6a06-4535-f9b1-9e579da851d4",
        "colab": {
          "base_uri": "https://localhost:8080/",
          "height": 34
        }
      },
      "source": [
        "from models import *\n",
        "from utils import *\n",
        "from data_utils import *"
      ],
      "execution_count": 0,
      "outputs": [
        {
          "output_type": "stream",
          "text": [
            "GPU is available\n"
          ],
          "name": "stdout"
        }
      ]
    },
    {
      "cell_type": "code",
      "metadata": {
        "id": "TJfyBLNLA686",
        "colab_type": "code",
        "outputId": "c1aa1d11-eb60-4bc3-af89-6e01508c3c73",
        "colab": {
          "base_uri": "https://localhost:8080/",
          "height": 119
        }
      },
      "source": [
        "# Change if your directory is different\n",
        "dataset_path = \"/content/gdrive/My Drive/C247/\" \n",
        "\n",
        "X_test = np.load(dataset_path + \"X_test.npy\")\n",
        "y_test = np.load(dataset_path + \"y_test.npy\")\n",
        "person_train_valid = np.load(dataset_path + \"person_train_valid.npy\")\n",
        "X_train_valid = np.load(dataset_path + \"X_train_valid.npy\")\n",
        "y_train_valid = np.load(dataset_path + \"y_train_valid.npy\")\n",
        "person_test = np.load(dataset_path + \"person_test.npy\")\n",
        "print ('Training/Valid data shape: {}'.format(X_train_valid.shape))\n",
        "print ('Test data shape: {}'.format(X_test.shape))\n",
        "print ('Training/Valid target shape: {}'.format(y_train_valid.shape))\n",
        "print ('Test target shape: {}'.format(y_test.shape))\n",
        "print ('Person train/valid shape: {}'.format(person_train_valid.shape))\n",
        "print ('Person test shape: {}'.format(person_test.shape))\n"
      ],
      "execution_count": 0,
      "outputs": [
        {
          "output_type": "stream",
          "text": [
            "Training/Valid data shape: (2115, 22, 1000)\n",
            "Test data shape: (443, 22, 1000)\n",
            "Training/Valid target shape: (2115,)\n",
            "Test target shape: (443,)\n",
            "Person train/valid shape: (2115, 1)\n",
            "Person test shape: (443, 1)\n"
          ],
          "name": "stdout"
        }
      ]
    },
    {
      "cell_type": "code",
      "metadata": {
        "id": "I-zWZCDHkcKF",
        "colab_type": "code",
        "colab": {}
      },
      "source": [
        "# Uncomment for window\n",
        "train_fold, val_fold = Train_Val_Data(X_train_valid, y_train_valid)\n",
        "\n",
        "# Uncomment for CWT -> Window\n",
        "# num_levels = 5\n",
        "# top_scale = 0.4\n",
        "# X_cwt, y_cwt, p_cwt = cwt_data2(X_train_valid, y_train_valid, person_train_valid, num_levels, top_scale=top_scale)\n",
        "# train_fold, val_fold = Train_Val_Data(X_cwt, y_cwt)\n",
        "# X_cwt[train_fold[0]].shape"
      ],
      "execution_count": 0,
      "outputs": []
    },
    {
      "cell_type": "markdown",
      "metadata": {
        "id": "90IvaY2LTyY1",
        "colab_type": "text"
      },
      "source": [
        "### Grid Search over window sizes\n",
        "Creates a pd table for each stride size"
      ]
    },
    {
      "cell_type": "code",
      "metadata": {
        "id": "tHtnt5aHhiFc",
        "colab_type": "code",
        "colab": {}
      },
      "source": [
        "import pandas as pd \n",
        "pd.set_option(\"display.precision\", 2) # set the precision to 2 decimals"
      ],
      "execution_count": 0,
      "outputs": []
    },
    {
      "cell_type": "code",
      "metadata": {
        "id": "nmJd_5kbTyY2",
        "colab_type": "code",
        "outputId": "785f8aaf-8143-475d-9dff-d4bfb90a2d8a",
        "colab": {
          "base_uri": "https://localhost:8080/",
          "height": 371
        }
      },
      "source": [
        "# setting up the data augmentation here\n",
        "aug_type = \"window\"\n",
        "strides = [20, 50, 100]\n",
        "window_sizes = [100, 200, 300, 500, 750, 900]\n",
        "vote_num = 20 \n",
        "num_folds = 5\n",
        "num_epochs = 20\n",
        "\n",
        "print('starting grid search...\\n')\n",
        "for stride in strides:\n",
        "\n",
        "  print('--------------------------------------------------')\n",
        "  print('Stride: {}'.format(stride))\n",
        "  # print('----------')\n",
        "\n",
        "  test_accs = []\n",
        "  for window_size in window_sizes:\n",
        "    for k in range(num_folds):\n",
        "        # indicate hyperparameters here\n",
        "        model, criterion, optimizer = InitRNN(rnn_type='CNNGRUnet', dropout=0.6, weight_decay=0.00001)\n",
        "        # print ('fold {}'.format(k+1))\n",
        "        \n",
        "        # Uncomment for just windowing\n",
        "        X_train, y_train, p_train = X_train_valid[train_fold[k]], y_train_valid[train_fold[k]], person_train_valid[train_fold[k]]\n",
        "        X_val, y_val, p_val = X_train_valid[val_fold[k]], y_train_valid[val_fold[k]], person_train_valid[val_fold[k]]\n",
        "\n",
        "        # Uncomment for cwt\n",
        "        # X_train, y_train, p_train = X_cwt[train_fold[k]], y_cwt[train_fold[k]], p_cwt[train_fold[k]]\n",
        "        # X_val, y_val, p_val = X_cwt[val_fold[k]], y_cwt[val_fold[k]], p_cwt[val_fold[k]]\n",
        "\n",
        "        X_train, y_train, p_train = Aug_Data(X_train, y_train, p_train, aug_type=aug_type, window_size=window_size, window_stride=stride)\n",
        "        if aug_type != 'window':\n",
        "            X_val, y_val, p_val = Aug_Data(X_val, y_val, p_val, aug_type=aug_type)\n",
        "        EEG_trainset = EEG_Dataset(X_train=X_train, y_train=y_train, p_train=p_train, mode='train')\n",
        "        EEG_trainloader = DataLoader(EEG_trainset, batch_size=128, shuffle=True)\n",
        "        EEG_valset = EEG_Dataset(X_val=X_val, y_val=y_val, p_val=p_val, mode='val')\n",
        "        EEG_valloader = DataLoader(EEG_valset, batch_size=128, shuffle=False)\n",
        "        best_model = TrainValRNN(model, criterion, optimizer, EEG_trainloader, EEG_valloader, num_epochs=num_epochs, aug_type=aug_type, window_size=window_size, vote_num=vote_num, verbose=False)\n",
        "\n",
        "    test_accs.append(100*TestRNN(model, X_test, y_test, person_test, aug_type=aug_type, window_size=window_size, vote_num=vote_num))\n",
        "  \n",
        "  df = pd.DataFrame(list(zip(window_sizes, test_accs)),  \n",
        "                  columns = ['Window Size', 'Test Accuracy']) \n",
        "  display(df)\n",
        "  print('\\n')"
      ],
      "execution_count": 0,
      "outputs": [
        {
          "output_type": "stream",
          "text": [
            "starting grid search...\n",
            "\n",
            "--------------------------------------------------\n",
            "Stride: 20\n"
          ],
          "name": "stdout"
        },
        {
          "output_type": "display_data",
          "data": {
            "text/html": [
              "<div>\n",
              "<style scoped>\n",
              "    .dataframe tbody tr th:only-of-type {\n",
              "        vertical-align: middle;\n",
              "    }\n",
              "\n",
              "    .dataframe tbody tr th {\n",
              "        vertical-align: top;\n",
              "    }\n",
              "\n",
              "    .dataframe thead th {\n",
              "        text-align: right;\n",
              "    }\n",
              "</style>\n",
              "<table border=\"1\" class=\"dataframe\">\n",
              "  <thead>\n",
              "    <tr style=\"text-align: right;\">\n",
              "      <th></th>\n",
              "      <th>Window Size</th>\n",
              "      <th>Test Accuracy</th>\n",
              "    </tr>\n",
              "  </thead>\n",
              "  <tbody>\n",
              "    <tr>\n",
              "      <th>0</th>\n",
              "      <td>100</td>\n",
              "      <td>54.18</td>\n",
              "    </tr>\n",
              "    <tr>\n",
              "      <th>1</th>\n",
              "      <td>200</td>\n",
              "      <td>47.86</td>\n",
              "    </tr>\n",
              "    <tr>\n",
              "      <th>2</th>\n",
              "      <td>300</td>\n",
              "      <td>43.57</td>\n",
              "    </tr>\n",
              "    <tr>\n",
              "      <th>3</th>\n",
              "      <td>500</td>\n",
              "      <td>33.18</td>\n",
              "    </tr>\n",
              "    <tr>\n",
              "      <th>4</th>\n",
              "      <td>750</td>\n",
              "      <td>25.06</td>\n",
              "    </tr>\n",
              "    <tr>\n",
              "      <th>5</th>\n",
              "      <td>900</td>\n",
              "      <td>30.47</td>\n",
              "    </tr>\n",
              "  </tbody>\n",
              "</table>\n",
              "</div>"
            ],
            "text/plain": [
              "   Window Size  Test Accuracy\n",
              "0          100          54.18\n",
              "1          200          47.86\n",
              "2          300          43.57\n",
              "3          500          33.18\n",
              "4          750          25.06\n",
              "5          900          30.47"
            ]
          },
          "metadata": {
            "tags": []
          }
        },
        {
          "output_type": "stream",
          "text": [
            "\n",
            "\n",
            "--------------------------------------------------\n",
            "Stride: 50\n"
          ],
          "name": "stdout"
        }
      ]
    },
    {
      "cell_type": "code",
      "metadata": {
        "id": "aVj6tmnqPPqp",
        "colab_type": "code",
        "colab": {}
      },
      "source": [
        "X_test = standardize(X_test, mu, std)\n",
        "TestRNN(model, X_test, y_test, person_test, aug_type=aug_type, window_size=window_size, vote_num=vote_num, sub_only=False)\n",
        "TestRNN(best_model, X_test, y_test, person_test, aug_type=aug_type, window_size=window_size, vote_num=vote_num, sub_only=False)"
      ],
      "execution_count": 0,
      "outputs": []
    }
  ]
}