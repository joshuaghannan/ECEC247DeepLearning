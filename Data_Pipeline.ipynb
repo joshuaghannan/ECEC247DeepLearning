{
  "nbformat": 4,
  "nbformat_minor": 0,
  "metadata": {
    "colab": {
      "name": "Data_Pipeline",
      "provenance": [],
      "collapsed_sections": [],
      "authorship_tag": "ABX9TyNNyTNHP1mCCkBsu8nP4eyX",
      "include_colab_link": true
    },
    "kernelspec": {
      "name": "python3",
      "display_name": "Python 3"
    },
    "accelerator": "GPU"
  },
  "cells": [
    {
      "cell_type": "markdown",
      "metadata": {
        "id": "view-in-github",
        "colab_type": "text"
      },
      "source": [
        "<a href=\"https://colab.research.google.com/github/joshuaghannan/ECEC247_Project/blob/jgh_tests/Data_Pipeline.ipynb\" target=\"_parent\"><img src=\"https://colab.research.google.com/assets/colab-badge.svg\" alt=\"Open In Colab\"/></a>"
      ]
    },
    {
      "cell_type": "markdown",
      "metadata": {
        "id": "CSiS4HarHkBF",
        "colab_type": "text"
      },
      "source": [
        "# How to Run:\n",
        "### 1. Run all cells with functions/classes/definitions\n",
        "\n",
        "### 2. Run the last three cells (where you can specifiy the data split, data augmentation type (still in progress), the model, and the training)\n",
        "\n",
        "TODO: \n",
        "\n",
        "1. Add functionality for data augmentation methods 2-4\n",
        "2. Fix the training/validation split method so that it:\n",
        "\n",
        "    -> keeps track of person ID\n",
        "\n",
        "    -> rotates which fold is the validation set (and doesn't do data augmentation on this set)\n",
        "\n",
        "3. Make the RNN models parameterizable (number of layers, density, dropout, activation function, regularization, density, etc.)\n",
        "\n",
        "4. Implement a grid seach/Panda df to easily store all results"
      ]
    },
    {
      "cell_type": "markdown",
      "metadata": {
        "id": "T5R8lgHEPnpm",
        "colab_type": "text"
      },
      "source": [
        "## Load npy datasets"
      ]
    },
    {
      "cell_type": "code",
      "metadata": {
        "id": "KQwpQEszAQ9u",
        "colab_type": "code",
        "outputId": "a2797f9f-677f-4585-aaf3-73d1fff66596",
        "colab": {
          "base_uri": "https://localhost:8080/",
          "height": 34
        }
      },
      "source": [
        "########################################################\n",
        "\n",
        "# If running with Google Colab\n",
        "\n",
        "from google.colab import drive\n",
        "drive.mount('/content/gdrive')"
      ],
      "execution_count": 1,
      "outputs": [
        {
          "output_type": "stream",
          "text": [
            "Drive already mounted at /content/gdrive; to attempt to forcibly remount, call drive.mount(\"/content/gdrive\", force_remount=True).\n"
          ],
          "name": "stdout"
        }
      ]
    },
    {
      "cell_type": "code",
      "metadata": {
        "id": "E-S67grVAoSt",
        "colab_type": "code",
        "outputId": "85e60767-3c81-4863-8e46-9f467967e46f",
        "colab": {
          "base_uri": "https://localhost:8080/",
          "height": 68
        }
      },
      "source": [
        "########################################################\n",
        "\n",
        "# If running with Google Colab\n",
        "# Create a folder \"C247\" and then store the project datasets within that folder\n",
        "# Check that your datasets are setup correctly\n",
        "\n",
        "!ls \"/content/gdrive/My Drive/C247\" # File path"
      ],
      "execution_count": 2,
      "outputs": [
        {
          "output_type": "stream",
          "text": [
            "EEG_loading.ipynb\tPyTorch_Experiments.ipynb  y_test.npy\n",
            "person_test.npy\t\tX_test.npy\t\t   y_train_valid.npy\n",
            "person_train_valid.npy\tX_train_valid.npy\n"
          ],
          "name": "stdout"
        }
      ]
    },
    {
      "cell_type": "code",
      "metadata": {
        "id": "uSPsK0aSAxnU",
        "colab_type": "code",
        "colab": {}
      },
      "source": [
        "import numpy as np\n",
        "import matplotlib.pyplot as plt\n",
        "import time\n",
        "%matplotlib inline"
      ],
      "execution_count": 0,
      "outputs": []
    },
    {
      "cell_type": "code",
      "metadata": {
        "id": "4cHAODKRTMAc",
        "colab_type": "code",
        "colab": {}
      },
      "source": [
        "import torch\n",
        "import torch.nn as nn"
      ],
      "execution_count": 0,
      "outputs": []
    },
    {
      "cell_type": "markdown",
      "metadata": {
        "id": "kYyxdY8vgyVB",
        "colab_type": "text"
      },
      "source": [
        "### Setting Up the Device"
      ]
    },
    {
      "cell_type": "code",
      "metadata": {
        "id": "BegPQCELfEcC",
        "colab_type": "code",
        "outputId": "0705a9d2-8418-4781-a8d8-a544f744eadb",
        "colab": {
          "base_uri": "https://localhost:8080/",
          "height": 34
        }
      },
      "source": [
        "# torch.cuda.is_available() checks and returns a Boolean True if a GPU is available, else it'll return False\n",
        "is_cuda = torch.cuda.is_available()\n",
        "\n",
        "# If we have a GPU available, we'll set our device to GPU. We'll use this device variable later in our code.\n",
        "if is_cuda:\n",
        "    device = torch.device(\"cuda\")\n",
        "    print(\"GPU is available\")\n",
        "else:\n",
        "    device = torch.device(\"cpu\")\n",
        "    print(\"GPU not available, CPU used\")"
      ],
      "execution_count": 5,
      "outputs": [
        {
          "output_type": "stream",
          "text": [
            "GPU is available\n"
          ],
          "name": "stdout"
        }
      ]
    },
    {
      "cell_type": "markdown",
      "metadata": {
        "id": "NiE2fkEzA3VO",
        "colab_type": "text"
      },
      "source": [
        "### Load the Datasets"
      ]
    },
    {
      "cell_type": "code",
      "metadata": {
        "id": "TJfyBLNLA686",
        "colab_type": "code",
        "colab": {}
      },
      "source": [
        "# X_test = np.load(\"X_test.npy\")\n",
        "# y_test = np.load(\"y_test.npy\")\n",
        "# person_train_valid = np.load(\"person_train_valid.npy\")\n",
        "# X_train_valid = np.load(\"X_train_valid.npy\")\n",
        "# y_train_valid = np.load(\"y_train_valid.npy\")\n",
        "# person_test = np.load(\"person_test.npy\")\n",
        "\n",
        "# Change if your directory is different\n",
        "dataset_path = \"/content/gdrive/My Drive/C247/\" \n",
        "\n",
        "X_test = np.load(dataset_path + \"X_test.npy\")\n",
        "y_test = np.load(dataset_path + \"y_test.npy\")\n",
        "person_train_valid = np.load(dataset_path + \"person_train_valid.npy\")\n",
        "X_train_valid = np.load(dataset_path + \"X_train_valid.npy\")\n",
        "y_train_valid = np.load(dataset_path + \"y_train_valid.npy\")\n",
        "person_test = np.load(dataset_path + \"person_test.npy\")"
      ],
      "execution_count": 0,
      "outputs": []
    },
    {
      "cell_type": "markdown",
      "metadata": {
        "id": "RNAJK24hA-8b",
        "colab_type": "text"
      },
      "source": [
        "### Shape of the Data"
      ]
    },
    {
      "cell_type": "code",
      "metadata": {
        "id": "0rCB9G8FA8va",
        "colab_type": "code",
        "outputId": "e1a990fe-f05a-4ed5-83a8-2067d16f77f0",
        "colab": {
          "base_uri": "https://localhost:8080/",
          "height": 119
        }
      },
      "source": [
        "print ('Training/Valid data shape: {}'.format(X_train_valid.shape))\n",
        "print ('Test data shape: {}'.format(X_test.shape))\n",
        "print ('Training/Valid target shape: {}'.format(y_train_valid.shape))\n",
        "print ('Test target shape: {}'.format(y_test.shape))\n",
        "print ('Person train/valid shape: {}'.format(person_train_valid.shape))\n",
        "print ('Person test shape: {}'.format(person_test.shape))"
      ],
      "execution_count": 7,
      "outputs": [
        {
          "output_type": "stream",
          "text": [
            "Training/Valid data shape: (2115, 22, 1000)\n",
            "Test data shape: (443, 22, 1000)\n",
            "Training/Valid target shape: (2115,)\n",
            "Test target shape: (443,)\n",
            "Person train/valid shape: (2115, 1)\n",
            "Person test shape: (443, 1)\n"
          ],
          "name": "stdout"
        }
      ]
    },
    {
      "cell_type": "markdown",
      "metadata": {
        "id": "WPbBo5CCYkS0",
        "colab_type": "text"
      },
      "source": [
        "### Split the data into Train and Validation Function\n",
        "TODO: Determine how to do this so that only the train (not val) data goes through the data augmentation"
      ]
    },
    {
      "cell_type": "code",
      "metadata": {
        "id": "RaaiAlUOYggR",
        "colab_type": "code",
        "colab": {}
      },
      "source": [
        "def Train_Val_Data(X_train_valid, y_train_valid, split=0.8):\n",
        "  '''\n",
        "  Funcion to split the data into train and validation data sets\n",
        "  input: X_train_valid, y_train_valid, split (percentage of data that's trianing)\n",
        "  output: Xtrain, ytrain, Xval, yval\n",
        "\n",
        "  TODO: Fix this to do real k-fold CV ... \n",
        "  '''\n",
        "  perm = np.random.permutation(X_train_valid.shape[0]) # Shuffle Indices\n",
        "  numTrain = int(split*X_train_valid.shape[0]) # Get the split\n",
        "  numVal = X_train_valid.shape[0] - numTrain\n",
        "  # Xtrain = torch.FloatTensor(X_train_valid[perm[0:numTrain]].transpose(0, 2, 1))\n",
        "  Xtrain = torch.FloatTensor(X_train_valid[perm[0:numTrain]])\n",
        "  ytrain = torch.LongTensor(y_train_valid[perm[0:numTrain]])\n",
        "\n",
        "  # Xval = torch.FloatTensor(X_train_valid[perm[numTrain:]].transpose(0, 2, 1))\n",
        "  Xval = torch.FloatTensor(X_train_valid[perm[numTrain:]])\n",
        "  yval = torch.LongTensor(y_train_valid[perm[numTrain:]])\n",
        "\n",
        "  return Xtrain, ytrain, Xval, yval\n",
        "\n",
        "# # Something like this should be better... \n",
        "# from random import randrange\n",
        " \n",
        "# # Split a dataset into k folds\n",
        "# def cross_validation_split(dataset, folds=3):\n",
        "# \tdataset_split = list()\n",
        "# \tdataset_copy = list(dataset)\n",
        "# \tfold_size = int(len(dataset) / folds)\n",
        "# \tfor i in range(folds):\n",
        "# \t\tfold = list()\n",
        "# \t\twhile len(fold) < fold_size:\n",
        "# \t\t\tindex = randrange(len(dataset_copy))\n",
        "# \t\t\tfold.append(dataset_copy.pop(index))\n",
        "# \t\tdataset_split.append(fold)\n",
        "# \treturn dataset_split"
      ],
      "execution_count": 0,
      "outputs": []
    },
    {
      "cell_type": "markdown",
      "metadata": {
        "colab_type": "text",
        "id": "Wbu2OUhrUmLV"
      },
      "source": [
        "### Data loader function"
      ]
    },
    {
      "cell_type": "code",
      "metadata": {
        "colab_type": "code",
        "id": "fqHAoCT6UmLE",
        "colab": {}
      },
      "source": [
        "from torch.utils.data import Dataset, DataLoader"
      ],
      "execution_count": 0,
      "outputs": []
    },
    {
      "cell_type": "code",
      "metadata": {
        "colab_type": "code",
        "id": "P6w7TPOFUmKa",
        "colab": {}
      },
      "source": [
        "y_train_valid -= 769\n",
        "y_test -= 769\n",
        "\n",
        "class Dataset(torch.utils.data.Dataset):\n",
        "    def __init__(self, X, Y):\n",
        "        self.X = torch.FloatTensor(X)\n",
        "        self.Y = torch.LongTensor(Y)\n",
        "    \n",
        "    def __len__(self):\n",
        "        return len(self.X)\n",
        "    \n",
        "    def __getitem__(self, index):\n",
        "        return self.X[index], self.Y[index]"
      ],
      "execution_count": 0,
      "outputs": []
    },
    {
      "cell_type": "markdown",
      "metadata": {
        "id": "_aSclO8q29y2",
        "colab_type": "text"
      },
      "source": [
        "### Data Split and Augmentation Function"
      ]
    },
    {
      "cell_type": "code",
      "metadata": {
        "id": "NUD5fnlul9Ky",
        "colab_type": "code",
        "colab": {}
      },
      "source": [
        "def Split_and_Aug_Data(X_train_valid, y_train_valid, batch_size=128, \n",
        "                          split=0.8, aug_type=None, \n",
        "                          window_size=200, stride=100):\n",
        "  \n",
        "    '''\n",
        "    Performs training/validation split on data, then performs window data \n",
        "    augmentation.\n",
        "\n",
        "    inputs: X_train_valid, y_train_valid, batch_size, split, aug_type,\n",
        "             window_size, stride\n",
        "\n",
        "             -> aug_type = None, \"window\", \"stft\", \"dwt\", \"cwt\"\n",
        "\n",
        "    outputs: Xtrain, ytrain, Xval, yval, loader\n",
        "\n",
        "    TODO: \n",
        "    1. Make it work for all different types of data augmentation\n",
        "        -> need to convert outputs from data augmentations 2-4 into usable types\n",
        "        -> allow it to take in params argument that has different specs for the\n",
        "            data augmentation types, instead of hardcoding it for windowing\n",
        "    2. Fix the training/validation split\n",
        "\n",
        "    '''\n",
        "\n",
        "    # split the dataset into train and val\n",
        "    # call train_val_data function\n",
        "    X_train, y_train, Xval, yval = Train_Val_Data(X_train_valid, y_train_valid, split=split)\n",
        "\n",
        "    # No data augmentation\n",
        "    if aug_type == None:\n",
        "      Xtrain, ytrain = X_train, y_train\n",
        "\n",
        "    # Perform Windowing Data Augmentation\n",
        "    elif aug_type == \"window\":\n",
        "      _, Xtrain, ytrain = window_data(X_train, y_train, window_size=window_size, stride=stride)\n",
        "\n",
        "    # TODO: Set up for data augmentations 2-4, including the input params and the output dimensions/types\n",
        "    # Perform STFT\n",
        "    elif aug_type == \"stft\":\n",
        "      print('Warning: Need to setup')\n",
        "\n",
        "    # Perform DWT \n",
        "    elif aug_type == \"dwt\":\n",
        "      Xtrain = dwt_data(X_train_valid,'sym9')\n",
        "      ytrain = y_train\n",
        "      print('Warning: Need to setup')\n",
        "\n",
        "    # Perform CWT\n",
        "    elif aug_type == \"cwt\":\n",
        "      print('Warning: Need to setup')\n",
        "\n",
        "    # Fix ordering, change to torch variable\n",
        "    if aug_type == None:\n",
        "      Xtrain = Xtrain.permute(0,2,1)\n",
        "    else:\n",
        "      Xtrain = torch.FloatTensor(Xtrain.transpose(0, 2, 1))\n",
        "      ytrain = torch.LongTensor(ytrain)\n",
        "    Xval = Xval.permute(0, 2, 1)\n",
        "\n",
        "    # Use dataloader for NN\n",
        "    batch_size = batch_size\n",
        "    dataset = Dataset(Xtrain, ytrain)\n",
        "    loader = DataLoader(dataset, batch_size)\n",
        "\n",
        "    return Xtrain, ytrain, Xval, yval, loader"
      ],
      "execution_count": 0,
      "outputs": []
    },
    {
      "cell_type": "markdown",
      "metadata": {
        "id": "80QCmDH3XuIP",
        "colab_type": "text"
      },
      "source": [
        "## Data Augmentation Functions"
      ]
    },
    {
      "cell_type": "markdown",
      "metadata": {
        "id": "ukmwg6GAQdwy",
        "colab_type": "text"
      },
      "source": [
        "### 1. Window Data"
      ]
    },
    {
      "cell_type": "code",
      "metadata": {
        "id": "QvjGvVqxXxD5",
        "colab_type": "code",
        "colab": {}
      },
      "source": [
        "def window_data(X, y, window_size, stride):\n",
        "  '''\n",
        "  This function takes in X (a 3-d tensor) of size (#trials x #electrodes x #time \n",
        "  series) and y data of size (#trials) and outputs two options for using it. \n",
        "  X_new1: The first output stacks the windowed data in a new dimension, resulting \n",
        "    in a 4-d tensor of size (#trials x #electrodes x #windows x #window_size).\n",
        "  X_new2: The second option makes the windows into new trails, resulting in a new\n",
        "    X tensor of size (#trials*#windows x #electrodes x #window_size). To account \n",
        "    for the larger number of trials, we also need to augment the y data.\n",
        "  y_new:  The augmented y vector of size (#trials*#windows) to match X_new2.\n",
        " \n",
        "  Some code to visualize what's happening:\n",
        "  X_new_wind1, X_new_wind2, Y_new  = window_data(X_train_valid, y_train_valid, 200, 20)\n",
        "  print(X_new_wind1.shape)\n",
        "  print(X_new_wind2.shape)\n",
        "  print(Y_new.shape)\n",
        "\n",
        "  # Example use case\n",
        "  _, X_train, y_train = window_data(X_train_valid, y_train_valid, window_size=200, stride=10)\n",
        "  '''\n",
        "  num_sub_trials = int((X.shape[2]-window_size)/stride)\n",
        "  X_new1 = np.empty([X.shape[0],X.shape[1],num_sub_trials,window_size])\n",
        "  X_new2 = np.empty([X.shape[0]*num_sub_trials,X.shape[1],window_size])\n",
        "  y_new = np.empty([X.shape[0]*num_sub_trials])\n",
        "  for i in range(X.shape[0]):\n",
        "    for j in range(X.shape[1]):\n",
        "      for k in range(num_sub_trials):\n",
        "        X_new1[i,j,k:k+window_size]    = X[i,j,k*stride:k*stride+window_size]\n",
        "        X_new2[i*num_sub_trials+k,j,:] = X[i,j,k*stride:k*stride+window_size]\n",
        "        y_new[i*num_sub_trials+k] = y[i]\n",
        "  return X_new1, X_new2, y_new"
      ],
      "execution_count": 0,
      "outputs": []
    },
    {
      "cell_type": "markdown",
      "metadata": {
        "id": "oYkBf_Y2QgV7",
        "colab_type": "text"
      },
      "source": [
        "### 2. Short-time Fourier Transform Function"
      ]
    },
    {
      "cell_type": "code",
      "metadata": {
        "id": "f866eBL5QSV6",
        "colab_type": "code",
        "colab": {}
      },
      "source": [
        "import scipy.signal as sig\n",
        "import numpy as np\n",
        "\n",
        "# Function that computes the short-time fourier transform of the data and returns the spectrogram\n",
        "def spectrogram_data(X,window,stride):\n",
        "    '''\n",
        "    Inputs:\n",
        "    X - input data, last dimension is one which transform will be taken across.\n",
        "    window - size of sliding window to take transform across\n",
        "    stride - stride of sliding window across time-series\n",
        "\n",
        "    Returns:\n",
        "    X_STFT - Output data, same shape as input with last dimension replaced with two new dimensions, F x T.\n",
        "            where F = window//2 + 1 is the frequency axis\n",
        "            and T = (input_length - window)//stride + 1, similar to the formula for aconvolutional filter.\n",
        "    t - the corresponding times for the time axis, T\n",
        "    f - the corresponding frequencies on the frequency axis, F.\n",
        "\n",
        "    Note that a smaller window means only higher frequencies may be found, but give finer time resolution.\n",
        "    Conversely, a large window gives better frequency resolution, but poor time resolution.\n",
        "\n",
        "    # EXAMPLE USE CASE:\n",
        "    Convert only one trial's data to a 2D spectrogram input.\n",
        "    Use a window of size 100, stride of size 5.\n",
        "    Input is X_train_valid[1,:,:] of dimensions 1 x 22 x 1000\n",
        "    output x_spect be 1 x 22 x (1000-100)/5 + 1 x 100 // 2.\n",
        "\n",
        "    window = 100\n",
        "    stride = 5\n",
        "    print('Input dimensions: {}'.format(X_train_valid[0,:,:].shape))\n",
        "\n",
        "    X_spect, t, f = spectrogram_data(X_train_valid[0,:,:],window=window,stride=stride)\n",
        "\n",
        "    print('Expected output dimensions: {}'.format((22,window//2+1,(1000-window)//stride+1)))\n",
        "    print('Acutal output dimensions: {}'.format(X_spect.shape))\n",
        "    '''\n",
        "    noverlap = window-stride\n",
        "    print(noverlap)\n",
        "    if noverlap < 0 :\n",
        "        print('Stride results in skipped data!')\n",
        "        return\n",
        "    f, t, X_STFT = sig.spectrogram(X,nperseg=window,noverlap=noverlap,fs=250, return_onesided=True)\n",
        "    return (X_STFT, t, f)"
      ],
      "execution_count": 0,
      "outputs": []
    },
    {
      "cell_type": "markdown",
      "metadata": {
        "id": "GrNHQf5CRJ-E",
        "colab_type": "text"
      },
      "source": [
        "### 3. DWT Function"
      ]
    },
    {
      "cell_type": "code",
      "metadata": {
        "id": "vqyU3NDsQSiM",
        "colab_type": "code",
        "colab": {}
      },
      "source": [
        "import pywt\n",
        "import numpy as np\n",
        "\n",
        "# FUNCTION TO COMPUTE THE DWT OF DATA\n",
        "def dwt_data(X,wav_name):\n",
        "    '''\n",
        "    Goes along the last axis of the input data (assuming it is N x C x T)\n",
        "    Computes the DWT coefficients, and takes these as new features\n",
        "    Returns new array that is N x C x D,\n",
        "    where D is the number of DWT coefficients.\n",
        "    Automatically computes to maximum \"useful\" depth, uses zero padding\n",
        "    Takes as input a string describing wavelet\n",
        "    One that was noted as useful before was 'sym9', or the 9th derivative of the symlet wavelet\n",
        "\n",
        "    # EXAMPLE USE CASE (on training data)\n",
        "\n",
        "    print('Initial dimensions: {}'.format(X_train_valid.shape))\n",
        "    X_DWT = dwt_data(X_train_valid,'sym9')\n",
        "    print('Output dimensions: {}'.format(X_DWT.shape))\n",
        "    '''\n",
        "    wav = pywt.Wavelet(wav_name)\n",
        "    n = X.shape[-1] #extract length of timeseries\n",
        "    max_level = pywt.dwt_max_level(n,wav)\n",
        "    out1 = np.concatenate(pywt.wavedec(X[0,:,:],wav,level=max_level,mode='zero'),axis=1)\n",
        "    out = np.empty((X.shape[0],X.shape[1],out1.shape[1]))\n",
        "    out[0,:,:] = out1\n",
        "    for i in range(1,X.shape[0]):\n",
        "        out[i,:,:] = np.concatenate(pywt.wavedec(X[i,:,:],wav,level=max_level,mode='zero'),axis=1)\n",
        "    return out"
      ],
      "execution_count": 0,
      "outputs": []
    },
    {
      "cell_type": "markdown",
      "metadata": {
        "id": "ROHNO2ezSDo-",
        "colab_type": "text"
      },
      "source": [
        "### 4. CWT Function"
      ]
    },
    {
      "cell_type": "code",
      "metadata": {
        "id": "iObyB4x8QSn6",
        "colab_type": "code",
        "colab": {}
      },
      "source": [
        "import scipy.signal as sig\n",
        "import numpy as np\n",
        "import pywt\n",
        "\n",
        "# FUNCTION TO COMPUTE CWT OF DATA\n",
        "def cwt_data(X,num_levels,top_scale=3):\n",
        "    '''\n",
        "    Takes in data, computes CWT using the mexican hat or ricker wavelet using scipy\n",
        "    Also takes in the top scale parameter.  I use logspace, so scale goes from 1 -> 2^top_scale with num_levels steps.\n",
        "    Appends to the data a new dimension, of size 'num_levels'\n",
        "    New dimension corresponds to wavelet content at num_levels different scalings (linear)\n",
        "    also returns the central frequencies that the scalings correspond to\n",
        "    input data is N x C X T\n",
        "    output data is N x C x T x F\n",
        "    note: CWT is fairly slow to compute\n",
        "\n",
        "    # EXAMPLE USAGE\n",
        "    test, freqs = cwt_data(X_train_valid[0:5,:,:],num_levels=75,top_scale=4)\n",
        "    '''\n",
        "    scales = np.logspace(start=0,stop=top_scale,num=num_levels)\n",
        "    out = np.empty((X.shape[0],X.shape[1],X.shape[2],num_levels))\n",
        "    for i in range(X.shape[0]):\n",
        "        for j in range(X.shape[1]):\n",
        "            coef = sig.cwt(X[i,j,:],sig.ricker,scales)\n",
        "            #out[i,j,:] = np.swapaxes((np.squeeze(coef)),0,1)\n",
        "            out[i,j,:] = coef.T\n",
        "    freqs = pywt.scale2frequency('mexh',scales)*250\n",
        "    return out,freqs"
      ],
      "execution_count": 0,
      "outputs": []
    },
    {
      "cell_type": "markdown",
      "metadata": {
        "id": "CgIq0soGedOp",
        "colab_type": "text"
      },
      "source": [
        "### Define Basic LSTM"
      ]
    },
    {
      "cell_type": "code",
      "metadata": {
        "id": "J-wVGkj0eXfw",
        "colab_type": "code",
        "colab": {}
      },
      "source": [
        "class LSTMnet(nn.Module):\n",
        "    '''\n",
        "    Create Basic LSTM:\n",
        "    2 layers\n",
        "\n",
        "    TODO: make number of layers, dropout, activation function, regularization all params\n",
        "    see ex: https://blog.floydhub.com/gru-with-pytorch/\n",
        "    '''\n",
        "\n",
        "    def __init__(self, input_size, hidden_size, output_dim):\n",
        "        super(LSTMnet, self).__init__()\n",
        "        self.input_size = input_size\n",
        "        self.hidden_size = hidden_size\n",
        "        self.output_dim = output_dim\n",
        "        # self.num_layers = num_layers\n",
        "        # self.droput = dropout\n",
        "        self.rnn = nn.LSTM(input_size=input_size, hidden_size=hidden_size, \n",
        "                           num_layers=2, dropout=0.5)\n",
        "        self.fc = nn.Linear(hidden_size, output_dim)\n",
        "    \n",
        "    def forward(self, x, h=None):\n",
        "        if type(h) == type(None):\n",
        "            out, hn = self.rnn(x)\n",
        "        else:\n",
        "            out, hn = self.rnn(x, h.detach())\n",
        "        out = self.fc(out[:, -1, :])\n",
        "        return out"
      ],
      "execution_count": 0,
      "outputs": []
    },
    {
      "cell_type": "markdown",
      "metadata": {
        "id": "8EdcrVIN_AQG",
        "colab_type": "text"
      },
      "source": [
        "### Define Basic GRU"
      ]
    },
    {
      "cell_type": "code",
      "metadata": {
        "id": "lZoYFxSa_gt8",
        "colab_type": "code",
        "colab": {}
      },
      "source": [
        "class GRUnet(nn.Module):\n",
        "    '''\n",
        "    Create Basic GRU:\n",
        "    2 layers\n",
        "\n",
        "    TODO: make number of layers, dropout, activation function, regularization all params\n",
        "    see ex: https://blog.floydhub.com/gru-with-pytorch/\n",
        "    '''\n",
        "\n",
        "    def __init__(self, input_size, hidden_size, output_dim):\n",
        "        super(GRUnet, self).__init__()\n",
        "        self.input_size = input_size\n",
        "        self.hidden_size = hidden_size\n",
        "        self.output_dim = output_dim\n",
        "        # self.num_layers = num_layers\n",
        "        # self.droput = dropout\n",
        "        self.rnn = nn.GRU(input_size=input_size, hidden_size=hidden_size, \n",
        "                           num_layers=2, dropout=0.5)\n",
        "        self.fc = nn.Linear(hidden_size, output_dim)\n",
        "    \n",
        "    def forward(self, x, h=None):\n",
        "        if type(h) == type(None):\n",
        "            out, hn = self.rnn(x)\n",
        "        else:\n",
        "            out, hn = self.rnn(x, h.detach())\n",
        "        out = self.fc(out[:, -1, :])\n",
        "        return out"
      ],
      "execution_count": 0,
      "outputs": []
    },
    {
      "cell_type": "markdown",
      "metadata": {
        "id": "JyHowKkI_T_N",
        "colab_type": "text"
      },
      "source": [
        "### RNN Initialization Function"
      ]
    },
    {
      "cell_type": "code",
      "metadata": {
        "id": "GUIxsjjT_W1d",
        "colab_type": "code",
        "colab": {}
      },
      "source": [
        "def InitRNN(rnn_type=\"LSTM\", input_size=22, hidden_size=20, output_dim=4):\n",
        "    '''\n",
        "    Function to initialize RNN\n",
        "    \n",
        "    input: RNN type(LSTM, GRU), and other params if neccessary (regularization, acitvation, dropout, num layers, etc.)\n",
        "\n",
        "    output: model, criterion, optimizer\n",
        "\n",
        "    TODO: Eventually should also take in params such as dropout, number of layers, and activation function(s), etc.\n",
        "    '''\n",
        "\n",
        "    if rnn_type==\"LSTM\":\n",
        "        model = LSTMnet(input_size=input_size, hidden_size=hidden_size, output_dim=output_dim).to(device)\n",
        "\n",
        "    elif rnn_type==\"GRU\":\n",
        "        model = GRUnet(input_size=input_size, hidden_size=hidden_size, output_dim=output_dim).to(device)\n",
        "\n",
        "    criterion = nn.CrossEntropyLoss()\n",
        "    optimizer = torch.optim.Adam(model.parameters())\n",
        "\n",
        "    return model, criterion, optimizer\n",
        "\n"
      ],
      "execution_count": 0,
      "outputs": []
    },
    {
      "cell_type": "markdown",
      "metadata": {
        "id": "ikTQjvNv5C10",
        "colab_type": "text"
      },
      "source": [
        "### NN Train Function"
      ]
    },
    {
      "cell_type": "code",
      "metadata": {
        "id": "D2tkXtfS5BqW",
        "colab_type": "code",
        "colab": {}
      },
      "source": [
        "def TrainRNN(num_epochs=20, verbose=True):\n",
        "  \n",
        "    '''\n",
        "    Function that trains the NN\n",
        "\n",
        "    input: num_epochs\n",
        "    \n",
        "    output: nothing; just prints the statistics\n",
        "    '''\n",
        "  \n",
        "    print(\"Firing Up the ol' computer ...\")\n",
        "    train_accs = []\n",
        "    val_accs = []\n",
        "    train_losses = []\n",
        "    val_losses = []\n",
        "    epoch = 0\n",
        "\n",
        "    # TODO: \n",
        "    # 1. Change the dimensions of the data using .transpose(0, 2, 1)\n",
        "    # 2. Create for loop to iterate over the number of folds\n",
        "\n",
        "    t0 = time.time()\n",
        "    num_epochs = num_epochs\n",
        "    for ep in range(num_epochs):\n",
        "        tstart = time.time()\n",
        "        for i, data in enumerate(loader):\n",
        "            optimizer.zero_grad()\n",
        "            outputs = model(data[0].to(device))\n",
        "            loss = criterion(outputs, data[1].to(device))\n",
        "            loss.backward()\n",
        "            optimizer.step()\n",
        "        pXtrain = model(Xtrain.to(device))\n",
        "        ptrain = torch.argmax(pXtrain, axis = 1)\n",
        "        train_acc = np.mean(ptrain.cpu().numpy() == ytrain.numpy())\n",
        "        train_accs.append(train_acc)\n",
        "        tloss = criterion(pXtrain, ytrain.to(device))\n",
        "        train_losses.append(tloss.item())\n",
        "        \n",
        "        pXval = model(Xval.to(device))\n",
        "        pval = torch.argmax(pXval, axis = 1)\n",
        "        val_acc = np.mean(pval.cpu().numpy() == yval.numpy())\n",
        "        val_accs.append(val_acc)\n",
        "        vloss = criterion(pXval, yval.to(device))\n",
        "        val_losses.append(vloss.item())\n",
        "        epoch += 1    \n",
        "        tend = time.time()\n",
        "        if verbose:\n",
        "          print('epoch: {:<3d}    time: {:<3.2f}    loss: {:<3.3f}    train acc: {:<1.3f}    val acc: {:<1.3f}'.format(epoch, \n",
        "                tend - tstart, tloss.item(), train_acc, val_acc))\n",
        "    time_total = time.time() - t0\n",
        "    print('-----')\n",
        "    print('Total time: {:4.3f}, average time per epoch: {:4.3f}'.format(time_total, time_total / num_epochs))\n",
        "\n",
        "    # Plot stuff...\n",
        "    plt.figure(figsize=(15, 7))\n",
        "    plt.subplot(1, 2, 1)\n",
        "    plt.plot(train_accs)\n",
        "    plt.plot(val_accs)\n",
        "    plt.title('training and validation accuracy')\n",
        "    plt.xlabel('epoch')\n",
        "    plt.ylabel('accuracy')\n",
        "    plt.legend(['train', 'val'])\n",
        "    plt.subplot(1, 2, 2)\n",
        "    plt.plot(train_losses)\n",
        "    plt.plot(val_losses)\n",
        "    plt.title('loss history')\n",
        "    plt.xlabel('epoch')\n",
        "    plt.ylabel('loss')\n",
        "    plt.legend(['train', 'val'])\n",
        "\n",
        "    # Get accuracies\n",
        "    print('-----')\n",
        "    print('Val Accuracy: {:.4f}'.format(val_accs[-1]))\n",
        "\n",
        "    # Get Testing Accuracies\n",
        "    batch_size = 128\n",
        "    test_dataset = Dataset(X_test, y_test)\n",
        "    test_loader = DataLoader(test_dataset, batch_size)\n",
        "\n",
        "    total = 0\n",
        "    correct = 0\n",
        "    for i, data in enumerate(test_loader):\n",
        "        eeg_seq = torch.FloatTensor(X_test.transpose(0, 2, 1)).to(device)\n",
        "        label = torch.LongTensor(y_test).to(device)\n",
        "        output = model(eeg_seq)\n",
        "        pred = torch.argmax(output, dim=1)\n",
        "        correct += torch.sum(pred == label).item()\n",
        "        total += label.shape[0]\n",
        "    print('-----')\n",
        "    print ('Testing Accuracy: {:.4f}'.format(correct/total))\n",
        "    print('-----')\n"
      ],
      "execution_count": 0,
      "outputs": []
    },
    {
      "cell_type": "markdown",
      "metadata": {
        "id": "wck90g1G351N",
        "colab_type": "text"
      },
      "source": [
        "## Run Experiments\n",
        "### 1. Split Data, Perform Data Augmentation\n",
        "### 2. Define the Model\n",
        "### 3. Train the Model"
      ]
    },
    {
      "cell_type": "markdown",
      "metadata": {
        "id": "yNtHv_a7gzdq",
        "colab_type": "text"
      },
      "source": [
        "### 1. Split Data into Training and Validation, Perform Data Augmentation on Training Set"
      ]
    },
    {
      "cell_type": "code",
      "metadata": {
        "id": "XJth5-v6wQvC",
        "colab_type": "code",
        "colab": {}
      },
      "source": [
        "Xtrain, ytrain, Xval, yval, loader = Split_and_Aug_Data(X_train_valid, \n",
        "                                                          y_train_valid, \n",
        "                                                          batch_size=128, \n",
        "                                                          split=0.8, \n",
        "                                                          aug_type=\"window\",\n",
        "                                                          window_size=200,\n",
        "                                                          stride=200)\n",
        "\n",
        "# Test the split/aug data function\n",
        "# print(Xtrain.shape, Xval.shape)\n",
        "\n",
        "# for i, data in enumerate(loader):\n",
        "#     print(data[0].to(device).shape, data[1].to(device).shape)\n",
        "#     break"
      ],
      "execution_count": 0,
      "outputs": []
    },
    {
      "cell_type": "markdown",
      "metadata": {
        "id": "Q_tuZUVPUFml",
        "colab_type": "text"
      },
      "source": [
        "### 2. Define the Model"
      ]
    },
    {
      "cell_type": "code",
      "metadata": {
        "id": "mlr1BI14ehVh",
        "colab_type": "code",
        "colab": {}
      },
      "source": [
        "model, criterion, optimizer = InitRNN(rnn_type='LSTM')"
      ],
      "execution_count": 0,
      "outputs": []
    },
    {
      "cell_type": "markdown",
      "metadata": {
        "id": "H7YhVgba8sfz",
        "colab_type": "text"
      },
      "source": [
        "### 3. Train the NN"
      ]
    },
    {
      "cell_type": "code",
      "metadata": {
        "id": "WCjiBl_M6Pjq",
        "colab_type": "code",
        "colab": {
          "base_uri": "https://localhost:8080/",
          "height": 934
        },
        "outputId": "dfd8fea6-df88-4ff8-d624-81f732b41cbd"
      },
      "source": [
        "TrainRNN(num_epochs=20)"
      ],
      "execution_count": 22,
      "outputs": [
        {
          "output_type": "stream",
          "text": [
            "Firing Up the ol' computer ...\n",
            "epoch: 1      time: 3.40    loss: 1.384    train acc: 0.265    val acc: 0.234\n",
            "epoch: 2      time: 3.13    loss: 1.382    train acc: 0.283    val acc: 0.227\n",
            "epoch: 3      time: 3.00    loss: 1.379    train acc: 0.290    val acc: 0.241\n",
            "epoch: 4      time: 2.90    loss: 1.377    train acc: 0.302    val acc: 0.270\n",
            "epoch: 5      time: 2.85    loss: 1.374    train acc: 0.310    val acc: 0.270\n",
            "epoch: 6      time: 2.68    loss: 1.372    train acc: 0.304    val acc: 0.236\n",
            "epoch: 7      time: 2.68    loss: 1.370    train acc: 0.310    val acc: 0.248\n",
            "epoch: 8      time: 2.67    loss: 1.365    train acc: 0.312    val acc: 0.243\n",
            "epoch: 9      time: 2.69    loss: 1.362    train acc: 0.321    val acc: 0.236\n",
            "epoch: 10     time: 2.63    loss: 1.356    train acc: 0.323    val acc: 0.234\n",
            "epoch: 11     time: 2.69    loss: 1.351    train acc: 0.342    val acc: 0.241\n",
            "epoch: 12     time: 2.67    loss: 1.345    train acc: 0.339    val acc: 0.260\n",
            "epoch: 13     time: 2.65    loss: 1.344    train acc: 0.347    val acc: 0.284\n",
            "epoch: 14     time: 2.63    loss: 1.341    train acc: 0.352    val acc: 0.220\n",
            "epoch: 15     time: 2.60    loss: 1.335    train acc: 0.357    val acc: 0.243\n",
            "epoch: 16     time: 2.59    loss: 1.323    train acc: 0.371    val acc: 0.208\n",
            "epoch: 17     time: 2.55    loss: 1.322    train acc: 0.365    val acc: 0.225\n",
            "epoch: 18     time: 2.62    loss: 1.316    train acc: 0.368    val acc: 0.232\n",
            "epoch: 19     time: 2.60    loss: 1.307    train acc: 0.381    val acc: 0.225\n",
            "epoch: 20     time: 2.60    loss: 1.301    train acc: 0.387    val acc: 0.227\n",
            "-----\n",
            "Total time: 54.848, average time per epoch: 2.742\n",
            "-----\n",
            "Val Accuracy: 0.2270\n",
            "-----\n",
            "Testing Accuracy: 0.2630\n",
            "-----\n"
          ],
          "name": "stdout"
        },
        {
          "output_type": "display_data",
          "data": {
            "image/png": "[encoded data removed]",
            "text/plain": [
              "<Figure size 1080x504 with 2 Axes>"
            ]
          },
          "metadata": {
            "tags": []
          }
        }
      ]
    },
    {
      "cell_type": "code",
      "metadata": {
        "id": "WBgNFfniGWPI",
        "colab_type": "code",
        "colab": {}
      },
      "source": [
        ""
      ],
      "execution_count": 0,
      "outputs": []
    }
  ]
}