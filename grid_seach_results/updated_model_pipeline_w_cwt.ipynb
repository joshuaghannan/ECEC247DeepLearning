{
  "nbformat": 4,
  "nbformat_minor": 0,
  "metadata": {
    "orig_nbformat": 2,
    "file_extension": ".py",
    "mimetype": "text/x-python",
    "name": "python",
    "npconvert_exporter": "python",
    "pygments_lexer": "ipython3",
    "version": 3,
    "kernelspec": {
      "name": "python3",
      "display_name": "Python 3"
    },
    "colab": {
      "name": "updated_model_pipeline_w_cwt",
      "provenance": [],
      "collapsed_sections": [],
      "machine_shape": "hm"
    },
    "accelerator": "GPU"
  },
  "cells": [
    {
      "cell_type": "markdown",
      "metadata": {
        "id": "JA1x8mSiTyYL",
        "colab_type": "text"
      },
      "source": [
        "### loading modules and data"
      ]
    },
    {
      "cell_type": "code",
      "metadata": {
        "id": "KQwpQEszAQ9u",
        "colab_type": "code",
        "outputId": "98cd989d-1da8-4467-f618-1a8864ac494b",
        "colab": {
          "base_uri": "https://localhost:8080/",
          "height": 122
        }
      },
      "source": [
        "########################################################\n",
        "\n",
        "# If running with Google Colab\n",
        "\n",
        "from google.colab import drive\n",
        "drive.mount('/content/gdrive')"
      ],
      "execution_count": 1,
      "outputs": [
        {
          "output_type": "stream",
          "text": [
            "Go to this URL in a browser: https://accounts.google.com/o/oauth2/auth?client_id=947318989803-6bn6qk8qdgf4n4g3pfee6491hc0brc4i.apps.googleusercontent.com&redirect_uri=urn%3aietf%3awg%3aoauth%3a2.0%3aoob&response_type=code&scope=email%20https%3a%2f%2fwww.googleapis.com%2fauth%2fdocs.test%20https%3a%2f%2fwww.googleapis.com%2fauth%2fdrive%20https%3a%2f%2fwww.googleapis.com%2fauth%2fdrive.photos.readonly%20https%3a%2f%2fwww.googleapis.com%2fauth%2fpeopleapi.readonly\n",
            "\n",
            "Enter your authorization code:\n",
            "··········\n",
            "Mounted at /content/gdrive\n"
          ],
          "name": "stdout"
        }
      ]
    },
    {
      "cell_type": "code",
      "metadata": {
        "id": "g6iA6D4yYwiq",
        "colab_type": "code",
        "colab": {}
      },
      "source": [
        "# # If using colab\n",
        "# from google.colab import files\n",
        "# files.upload()\n",
        "# # select the 3 .py files (models, utils, data_utils)"
      ],
      "execution_count": 0,
      "outputs": []
    },
    {
      "cell_type": "code",
      "metadata": {
        "id": "E-S67grVAoSt",
        "colab_type": "code",
        "outputId": "2736045f-a0b4-4247-9451-28446db61a8b",
        "colab": {
          "base_uri": "https://localhost:8080/",
          "height": 68
        }
      },
      "source": [
        "########################################################\n",
        "\n",
        "# If running with Google Colab\n",
        "# Create a folder \"C247\" and then store the project datasets within that folder\n",
        "# Check that your datasets are setup correctly\n",
        "\n",
        "!ls \"/content/gdrive/My Drive/C247\" # File path"
      ],
      "execution_count": 3,
      "outputs": [
        {
          "output_type": "stream",
          "text": [
            "EEG_loading.ipynb\tPyTorch_Experiments.ipynb  X_train_valid.npy\n",
            "person_test.npy\t\tpytorch_rnn_example.ipynb  y_test.npy\n",
            "person_train_valid.npy\tX_test.npy\t\t   y_train_valid.npy\n"
          ],
          "name": "stdout"
        }
      ]
    },
    {
      "cell_type": "code",
      "metadata": {
        "id": "-jkt1ZNZWIhi",
        "colab_type": "code",
        "outputId": "18152f37-67e1-40e9-f715-34c5eefa991a",
        "colab": {
          "base_uri": "https://localhost:8080/",
          "height": 34
        }
      },
      "source": [
        "from models import *\n",
        "from utils import *\n",
        "from data_utils import *"
      ],
      "execution_count": 4,
      "outputs": [
        {
          "output_type": "stream",
          "text": [
            "GPU is available\n"
          ],
          "name": "stdout"
        }
      ]
    },
    {
      "cell_type": "code",
      "metadata": {
        "id": "TJfyBLNLA686",
        "colab_type": "code",
        "outputId": "2e0b1a73-adcb-4d16-aac6-47dcffb13539",
        "colab": {
          "base_uri": "https://localhost:8080/",
          "height": 119
        }
      },
      "source": [
        "# X_test = np.load(\"X_test.npy\")\n",
        "# y_test = np.load(\"y_test.npy\")\n",
        "# person_train_valid = np.load(\"person_train_valid.npy\")\n",
        "# X_train_valid = np.load(\"X_train_valid.npy\")\n",
        "# y_train_valid = np.load(\"y_train_valid.npy\")\n",
        "# person_test = np.load(\"person_test.npy\")\n",
        "\n",
        "# Change if your directory is different\n",
        "\n",
        "# dataset_path = './data/' # Yiming Path\n",
        "dataset_path = \"/content/gdrive/My Drive/C247/\" \n",
        "\n",
        "X_test = np.load(dataset_path + \"X_test.npy\")\n",
        "y_test = np.load(dataset_path + \"y_test.npy\")\n",
        "person_train_valid = np.load(dataset_path + \"person_train_valid.npy\")\n",
        "X_train_valid = np.load(dataset_path + \"X_train_valid.npy\")\n",
        "y_train_valid = np.load(dataset_path + \"y_train_valid.npy\")\n",
        "person_test = np.load(dataset_path + \"person_test.npy\")\n",
        "print ('Training/Valid data shape: {}'.format(X_train_valid.shape))\n",
        "print ('Test data shape: {}'.format(X_test.shape))\n",
        "print ('Training/Valid target shape: {}'.format(y_train_valid.shape))\n",
        "print ('Test target shape: {}'.format(y_test.shape))\n",
        "print ('Person train/valid shape: {}'.format(person_train_valid.shape))\n",
        "print ('Person test shape: {}'.format(person_test.shape))\n"
      ],
      "execution_count": 5,
      "outputs": [
        {
          "output_type": "stream",
          "text": [
            "Training/Valid data shape: (2115, 22, 1000)\n",
            "Test data shape: (443, 22, 1000)\n",
            "Training/Valid target shape: (2115,)\n",
            "Test target shape: (443,)\n",
            "Person train/valid shape: (2115, 1)\n",
            "Person test shape: (443, 1)\n"
          ],
          "name": "stdout"
        }
      ]
    },
    {
      "cell_type": "code",
      "metadata": {
        "id": "I-zWZCDHkcKF",
        "colab_type": "code",
        "outputId": "9a98183b-58f3-4ce7-c032-908312e19047",
        "colab": {
          "base_uri": "https://localhost:8080/",
          "height": 34
        }
      },
      "source": [
        "# Uncomment for window\n",
        "# train_fold, val_fold = Train_Val_Data(X_train_valid, y_train_valid)\n",
        "\n",
        "# Uncomment for CWT -> Window\n",
        "num_levels = 5\n",
        "top_scale = 0.4\n",
        "X_cwt, y_cwt, p_cwt = cwt_data2(X_train_valid, y_train_valid, person_train_valid, num_levels, top_scale=top_scale)\n",
        "train_fold, val_fold = Train_Val_Data(X_cwt, y_cwt)\n",
        "X_cwt[train_fold[0]].shape"
      ],
      "execution_count": 6,
      "outputs": [
        {
          "output_type": "execute_result",
          "data": {
            "text/plain": [
              "(8460, 22, 1000)"
            ]
          },
          "metadata": {
            "tags": []
          },
          "execution_count": 6
        }
      ]
    },
    {
      "cell_type": "markdown",
      "metadata": {
        "id": "90IvaY2LTyY1",
        "colab_type": "text"
      },
      "source": [
        "### K-Fold Training and Validation (use k=1 to get results faster)"
      ]
    },
    {
      "cell_type": "code",
      "metadata": {
        "id": "nmJd_5kbTyY2",
        "colab_type": "code",
        "outputId": "8ad5709d-c190-448d-a628-a8302838e154",
        "colab": {
          "base_uri": "https://localhost:8080/",
          "height": 510
        }
      },
      "source": [
        "# setting up the data augmentation here\n",
        "aug_type = \"window\"\n",
        "window_size = 200\n",
        "stride = 50 # Make 20 normally\n",
        "vote_num = 50 # Make 20 normally\n",
        "num_folds = 1\n",
        "num_epochs = 20\n",
        "\n",
        "for k in range(num_folds):\n",
        "    # indicate hyperparameters here\n",
        "    model, criterion, optimizer = InitRNN(rnn_type='GRU', dropout=0.5, weight_decay=0)\n",
        "    print ('fold {}'.format(k+1))\n",
        "    \n",
        "    # Uncomment for just windowing\n",
        "    # X_train, y_train, p_train = X_train_valid[train_fold[k]], y_train_valid[train_fold[k]], person_train_valid[train_fold[k]]\n",
        "    # X_val, y_val, p_val = X_train_valid[val_fold[k]], y_train_valid[val_fold[k]], person_train_valid[val_fold[k]]\n",
        "\n",
        "    # Uncomment for cwt\n",
        "    X_train, y_train, p_train = X_cwt[train_fold[k]], y_cwt[train_fold[k]], p_cwt[train_fold[k]]\n",
        "    X_val, y_val, p_val = X_cwt[val_fold[k]], y_cwt[val_fold[k]], p_cwt[val_fold[k]]\n",
        "\n",
        "    X_train, y_train, p_train = Aug_Data(X_train, y_train, p_train, aug_type=aug_type, window_size=window_size, window_stride=stride)\n",
        "    if aug_type != 'window':\n",
        "        X_val, y_val, p_val = Aug_Data(X_val, y_val, p_val, aug_type=aug_type)\n",
        "    EEG_trainset = EEG_Dataset(X_train=X_train, y_train=y_train, p_train=p_train, mode='train')\n",
        "    EEG_trainloader = DataLoader(EEG_trainset, batch_size=128, shuffle=True)\n",
        "    EEG_valset = EEG_Dataset(X_val=X_val, y_val=y_val, p_val=p_val, mode='val')\n",
        "    EEG_valloader = DataLoader(EEG_valset, batch_size=128, shuffle=False)\n",
        "    best_model = TrainValRNN(model, criterion, optimizer, EEG_trainloader, EEG_valloader, num_epochs=num_epochs, aug_type=aug_type, window_size=window_size, vote_num=vote_num)\n"
      ],
      "execution_count": 7,
      "outputs": [
        {
          "output_type": "stream",
          "text": [
            "RNN TYPE: GRU\n",
            "WEIGHT DECAY: 0\n",
            "LEARNING RATE: 0.001\n",
            "fold 1\n",
            "epoch: 1      time: 32.05    loss: 1461.974    train acc: 0.277    val acc: 0.313\n",
            "saving best model...\n",
            "epoch: 2      time: 31.87    loss: 1400.384    train acc: 0.360    val acc: 0.415\n",
            "saving best model...\n",
            "epoch: 3      time: 31.92    loss: 1314.646    train acc: 0.428    val acc: 0.428\n",
            "saving best model...\n",
            "epoch: 4      time: 31.81    loss: 1253.591    train acc: 0.464    val acc: 0.441\n",
            "saving best model...\n",
            "epoch: 5      time: 31.86    loss: 1200.903    train acc: 0.495    val acc: 0.455\n",
            "saving best model...\n",
            "epoch: 6      time: 31.86    loss: 1153.805    train acc: 0.525    val acc: 0.427\n",
            "epoch: 7      time: 31.73    loss: 1110.656    train acc: 0.548    val acc: 0.406\n",
            "epoch: 8      time: 31.98    loss: 1071.040    train acc: 0.568    val acc: 0.427\n",
            "epoch: 9      time: 31.81    loss: 1040.244    train acc: 0.583    val acc: 0.414\n",
            "epoch: 10     time: 31.90    loss: 1010.570    train acc: 0.598    val acc: 0.409\n",
            "epoch: 11     time: 31.91    loss: 984.122    train acc: 0.611    val acc: 0.408\n",
            "epoch: 12     time: 32.00    loss: 958.784    train acc: 0.624    val acc: 0.450\n",
            "epoch: 13     time: 31.91    loss: 937.671    train acc: 0.633    val acc: 0.438\n",
            "epoch: 14     time: 31.83    loss: 921.143    train acc: 0.642    val acc: 0.440\n",
            "epoch: 15     time: 31.93    loss: 902.228    train acc: 0.651    val acc: 0.426\n",
            "epoch: 16     time: 31.84    loss: 885.281    train acc: 0.657    val acc: 0.429\n",
            "epoch: 17     time: 31.99    loss: 869.844    train acc: 0.665    val acc: 0.421\n",
            "epoch: 18     time: 32.03    loss: 856.939    train acc: 0.673    val acc: 0.439\n",
            "epoch: 19     time: 32.05    loss: 848.419    train acc: 0.674    val acc: 0.441\n",
            "epoch: 20     time: 32.04    loss: 834.128    train acc: 0.681    val acc: 0.422\n"
          ],
          "name": "stdout"
        }
      ]
    },
    {
      "cell_type": "markdown",
      "metadata": {
        "id": "5yGSJZ62TyY7",
        "colab_type": "text"
      },
      "source": [
        "### Training and Testing"
      ]
    },
    {
      "cell_type": "code",
      "metadata": {
        "id": "PT9IdrogTyY9",
        "colab_type": "code",
        "colab": {
          "base_uri": "https://localhost:8080/",
          "height": 34
        },
        "outputId": "b1e52874-d885-49d1-d833-0ad1ed0ed622"
      },
      "source": [
        "# Uncomment if using cwt\n",
        "X_test, y_test, person_test = cwt_data2(X_test, y_test, person_test, num_levels, top_scale=top_scale)\n",
        "\n",
        "TestRNN(model, X_test, y_test, person_test, aug_type=aug_type, window_size=window_size, vote_num=vote_num)"
      ],
      "execution_count": 8,
      "outputs": [
        {
          "output_type": "stream",
          "text": [
            "Testing Accuracy: 0.4916\n"
          ],
          "name": "stdout"
        }
      ]
    },
    {
      "cell_type": "code",
      "metadata": {
        "id": "el553ed8dYy6",
        "colab_type": "code",
        "colab": {}
      },
      "source": [
        ""
      ],
      "execution_count": 0,
      "outputs": []
    }
  ]
}