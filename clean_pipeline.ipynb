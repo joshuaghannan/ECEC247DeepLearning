{
 "nbformat": 4,
 "nbformat_minor": 2,
 "metadata": {
  "language_info": {
   "name": "python",
   "codemirror_mode": {
    "name": "ipython",
    "version": 3
   },
   "version": "3.6.10-final"
  },
  "orig_nbformat": 2,
  "file_extension": ".py",
  "mimetype": "text/x-python",
  "name": "python",
  "npconvert_exporter": "python",
  "pygments_lexer": "ipython3",
  "version": 3,
  "kernelspec": {
   "name": "python361064bitee247conda874057864ab545a7a9b7751cc5dbcd55",
   "display_name": "Python 3.6.10 64-bit ('ee247': conda)"
  }
 },
 "cells": [
  {
   "cell_type": "markdown",
   "execution_count": null,
   "metadata": {},
   "outputs": [],
   "source": [
    "### loading modules and data"
   ]
  },
  {
   "cell_type": "code",
   "execution_count": 1,
   "metadata": {},
   "outputs": [
    {
     "name": "stdout",
     "output_type": "stream",
     "text": "GPU is available\nTraining/Valid data shape: (2115, 22, 1000)\nTest data shape: (443, 22, 1000)\nTraining/Valid target shape: (2115,)\nTest target shape: (443,)\nPerson train/valid shape: (2115, 1)\nPerson test shape: (443, 1)\n"
    }
   ],
   "source": [
    "from models import *\n",
    "from utils import *\n",
    "from data_utils import *\n",
    "\n",
    "dataset_path = './data/'\n",
    "X_train_valid = np.load(dataset_path + \"X_train_valid.npy\")\n",
    "y_train_valid = np.load(dataset_path + \"y_train_valid.npy\")\n",
    "person_train_valid = np.load(dataset_path + \"person_train_valid.npy\")\n",
    "X_test = np.load(dataset_path + \"X_test.npy\")\n",
    "y_test = np.load(dataset_path + \"y_test.npy\")\n",
    "person_test = np.load(dataset_path + \"person_test.npy\")\n",
    "print ('Training/Valid data shape: {}'.format(X_train_valid.shape))\n",
    "print ('Test data shape: {}'.format(X_test.shape))\n",
    "print ('Training/Valid target shape: {}'.format(y_train_valid.shape))\n",
    "print ('Test target shape: {}'.format(y_test.shape))\n",
    "print ('Person train/valid shape: {}'.format(person_train_valid.shape))\n",
    "print ('Person test shape: {}'.format(person_test.shape))\n",
    "\n",
    "train_fold, val_fold = Train_Val_Data(X_train_valid, y_train_valid)\n",
    "\n"
   ]
  },
  {
   "cell_type": "markdown",
   "execution_count": null,
   "metadata": {},
   "outputs": [],
   "source": [
    "### K-Fold Training and Validation (use k=1 to get results faster)"
   ]
  },
  {
   "cell_type": "code",
   "execution_count": 2,
   "metadata": {},
   "outputs": [
    {
     "name": "stdout",
     "output_type": "stream",
     "text": "fold 1\nepoch: 1      time: 0.38    loss: 16.662    train acc: 0.280    val acc: 0.241   sub val acc: 0.241\nsaving best model...\nepoch: 2      time: 0.35    loss: 16.413    train acc: 0.315    val acc: 0.241   sub val acc: 0.241\nsaving best model...\nepoch: 3      time: 0.37    loss: 16.332    train acc: 0.327    val acc: 0.241   sub val acc: 0.241\nsaving best model...\nepoch: 4      time: 0.36    loss: 16.123    train acc: 0.326    val acc: 0.241   sub val acc: 0.241\nsaving best model...\nepoch: 5      time: 0.35    loss: 15.894    train acc: 0.361    val acc: 0.241   sub val acc: 0.241\nsaving best model...\nepoch: 6      time: 0.36    loss: 15.372    train acc: 0.412    val acc: 0.442   sub val acc: 0.442\nsaving best model...\nepoch: 7      time: 0.36    loss: 14.659    train acc: 0.454    val acc: 0.417   sub val acc: 0.417\nepoch: 8      time: 0.37    loss: 14.062    train acc: 0.477    val acc: 0.457   sub val acc: 0.457\nsaving best model...\nepoch: 9      time: 0.36    loss: 14.364    train acc: 0.472    val acc: 0.437   sub val acc: 0.437\nepoch: 10     time: 0.37    loss: 13.416    train acc: 0.511    val acc: 0.462   sub val acc: 0.462\nsaving best model...\nepoch: 11     time: 0.35    loss: 13.317    train acc: 0.523    val acc: 0.397   sub val acc: 0.397\nepoch: 12     time: 0.35    loss: 12.740    train acc: 0.543    val acc: 0.487   sub val acc: 0.487\nsaving best model...\nepoch: 13     time: 0.36    loss: 12.300    train acc: 0.546    val acc: 0.452   sub val acc: 0.452\nepoch: 14     time: 0.36    loss: 11.375    train acc: 0.593    val acc: 0.487   sub val acc: 0.487\nsaving best model...\nepoch: 15     time: 0.37    loss: 10.401    train acc: 0.642    val acc: 0.492   sub val acc: 0.492\nsaving best model...\nepoch: 16     time: 0.36    loss: 10.130    train acc: 0.652    val acc: 0.472   sub val acc: 0.472\nepoch: 17     time: 0.37    loss: 9.074    train acc: 0.670    val acc: 0.508   sub val acc: 0.508\nsaving best model...\nepoch: 18     time: 0.36    loss: 10.475    train acc: 0.653    val acc: 0.497   sub val acc: 0.497\nepoch: 19     time: 0.37    loss: 9.132    train acc: 0.686    val acc: 0.503   sub val acc: 0.503\nepoch: 20     time: 0.37    loss: 8.466    train acc: 0.718    val acc: 0.432   sub val acc: 0.432\n"
    }
   ],
   "source": [
    "# setting up the data augmentation here\n",
    "aug_type = \"window\"\n",
    "window_size = 200\n",
    "vote_num = 20\n",
    "\n",
    "for k in range(1):\n",
    "    # indicate hyperparameters here\n",
    "    model, criterion, optimizer = InitRNN(rnn_type='CNNGRU', dropout=0.4)\n",
    "    print ('fold {}'.format(k+1))\n",
    "    X_train, y_train, p_train = X_train_valid[train_fold[k]], y_train_valid[train_fold[k]], person_train_valid[train_fold[k]]\n",
    "    X_val, y_val, p_val = X_train_valid[val_fold[k]], y_train_valid[val_fold[k]], person_train_valid[val_fold[k]]\n",
    "    mu = np.mean(X_train, axis=(0,2), keepdims = True) \n",
    "    std = np.std(X_train, axis=(0,2), keepdims = True)\n",
    "    X_train = standardize(X_train, mu, std)\n",
    "    X_val = standardize(X_val, mu, std)\n",
    "    X_train, y_train, p_train = Aug_Data(X_train, y_train, p_train, aug_type=aug_type, window_size=window_size)\n",
    "    if aug_type != 'window':\n",
    "        X_val, y_val, p_val = Aug_Data(X_val, y_val, p_val, aug_type=aug_type)\n",
    "    EEG_trainset = EEG_Dataset(X_train=X_train, y_train=y_train, p_train=p_train, mode='train', sub_only=True)\n",
    "    EEG_trainloader = DataLoader(EEG_trainset, batch_size=128, shuffle=True)\n",
    "    EEG_valset = EEG_Dataset(X_val=X_val, y_val=y_val, p_val=p_val, mode='val', sub_only=True)\n",
    "    EEG_valloader = DataLoader(EEG_valset, batch_size=128, shuffle=False)\n",
    "    best_model = TrainValRNN(model, criterion, optimizer, EEG_trainloader, EEG_valloader, num_epochs=20, aug_type=aug_type, window_size=window_size, vote_num=vote_num)\n"
   ]
  },
  {
   "cell_type": "markdown",
   "execution_count": null,
   "metadata": {},
   "outputs": [],
   "source": [
    "### Training and Testing"
   ]
  },
  {
   "cell_type": "code",
   "execution_count": 3,
   "metadata": {},
   "outputs": [
    {
     "name": "stdout",
     "output_type": "stream",
     "text": "test acc: 0.5200  sub test acc: 0.5200\n"
    }
   ],
   "source": [
    "X_test = standardize(X_test, mu, std)\n",
    "TestRNN(model, X_test, y_test, person_test, aug_type=aug_type, window_size=window_size, vote_num=vote_num, sub_only=True)"
   ]
  },
  {
   "cell_type": "code",
   "execution_count": null,
   "metadata": {},
   "outputs": [],
   "source": []
  }
 ]
}