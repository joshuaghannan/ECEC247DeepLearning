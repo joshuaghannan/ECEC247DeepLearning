{
 "nbformat": 4,
 "nbformat_minor": 2,
 "metadata": {
  "language_info": {
   "name": "python",
   "codemirror_mode": {
    "name": "ipython",
    "version": 3
   },
   "version": "3.6.10-final"
  },
  "orig_nbformat": 2,
  "file_extension": ".py",
  "mimetype": "text/x-python",
  "name": "python",
  "npconvert_exporter": "python",
  "pygments_lexer": "ipython3",
  "version": 3,
  "kernelspec": {
   "name": "ee247",
   "display_name": "python3.6(ee247)"
  }
 },
 "cells": [
  {
   "cell_type": "markdown",
   "execution_count": null,
   "metadata": {},
   "outputs": [],
   "source": [
    "### loading modules and data"
   ]
  },
  {
   "cell_type": "code",
   "execution_count": 1,
   "metadata": {},
   "outputs": [
    {
     "name": "stdout",
     "output_type": "stream",
     "text": "GPU is available\nTraining/Valid data shape: (2115, 22, 1000)\nTest data shape: (443, 22, 1000)\nTraining/Valid target shape: (2115,)\nTest target shape: (443,)\nPerson train/valid shape: (2115, 1)\nPerson test shape: (443, 1)\n"
    }
   ],
   "source": [
    "from models import *\n",
    "from utils import *\n",
    "from data_utils import *\n",
    "\n",
    "dataset_path = './data/'\n",
    "X_train_valid = np.load(dataset_path + \"X_train_valid.npy\")\n",
    "y_train_valid = np.load(dataset_path + \"y_train_valid.npy\")\n",
    "person_train_valid = np.load(dataset_path + \"person_train_valid.npy\")\n",
    "X_test = np.load(dataset_path + \"X_test.npy\")\n",
    "y_test = np.load(dataset_path + \"y_test.npy\")\n",
    "person_test = np.load(dataset_path + \"person_test.npy\")\n",
    "print ('Training/Valid data shape: {}'.format(X_train_valid.shape))\n",
    "print ('Test data shape: {}'.format(X_test.shape))\n",
    "print ('Training/Valid target shape: {}'.format(y_train_valid.shape))\n",
    "print ('Test target shape: {}'.format(y_test.shape))\n",
    "print ('Person train/valid shape: {}'.format(person_train_valid.shape))\n",
    "print ('Person test shape: {}'.format(person_test.shape))\n",
    "\n",
    "train_fold, val_fold = Train_Val_Data(X_train_valid, y_train_valid)\n",
    "\n"
   ]
  },
  {
   "cell_type": "markdown",
   "execution_count": null,
   "metadata": {},
   "outputs": [],
   "source": [
    "### K-Fold Training and Validation (use k=1 to get results faster)"
   ]
  },
  {
   "cell_type": "code",
   "execution_count": 6,
   "metadata": {},
   "outputs": [
    {
     "name": "stdout",
     "output_type": "stream",
     "text": "fold 1\nepoch: 1      time: 16.18    loss: 730.066    train acc: 0.279    val acc: 0.326\nsaving best model...\nepoch: 2      time: 16.74    loss: 722.552    train acc: 0.307    val acc: 0.369\nsaving best model...\nepoch: 3      time: 16.67    loss: 708.840    train acc: 0.343    val acc: 0.414\nsaving best model...\nepoch: 4      time: 16.13    loss: 690.412    train acc: 0.378    val acc: 0.435\nsaving best model...\nepoch: 5      time: 16.00    loss: 677.129    train acc: 0.397    val acc: 0.423\nepoch: 6      time: 16.28    loss: 665.648    train acc: 0.417    val acc: 0.435\nsaving best model...\nepoch: 7      time: 16.44    loss: 654.787    train acc: 0.430    val acc: 0.430\nepoch: 8      time: 16.17    loss: 649.136    train acc: 0.439    val acc: 0.449\nsaving best model...\nepoch: 9      time: 16.14    loss: 639.905    train acc: 0.451    val acc: 0.437\nepoch: 10     time: 15.11    loss: 633.710    train acc: 0.458    val acc: 0.421\nepoch: 11     time: 15.38    loss: 625.696    train acc: 0.470    val acc: 0.454\nsaving best model...\nepoch: 12     time: 15.99    loss: 619.245    train acc: 0.474    val acc: 0.411\nepoch: 13     time: 16.18    loss: 613.571    train acc: 0.483    val acc: 0.447\nepoch: 14     time: 14.92    loss: 608.992    train acc: 0.486    val acc: 0.482\nsaving best model...\nepoch: 15     time: 16.33    loss: 601.916    train acc: 0.494    val acc: 0.452\nepoch: 16     time: 15.81    loss: 596.645    train acc: 0.501    val acc: 0.442\nepoch: 17     time: 16.32    loss: 587.534    train acc: 0.511    val acc: 0.411\nepoch: 18     time: 16.29    loss: 583.163    train acc: 0.514    val acc: 0.456\nepoch: 19     time: 16.64    loss: 575.738    train acc: 0.524    val acc: 0.487\nsaving best model...\nepoch: 20     time: 16.48    loss: 570.717    train acc: 0.527    val acc: 0.442\n"
    }
   ],
   "source": [
    "# setting up the data augmentation here\n",
    "aug_type = \"window\"\n",
    "window_size = 200\n",
    "vote_num = 20\n",
    "\n",
    "for k in range(1):\n",
    "    # indicate hyperparameters here\n",
    "    model, criterion, optimizer = InitRNN(rnn_type='CNNGRU', dropout=0.4)\n",
    "    print ('fold {}'.format(k+1))\n",
    "    X_train, y_train, p_train = X_train_valid[train_fold[k]], y_train_valid[train_fold[k]], person_train_valid[train_fold[k]]\n",
    "    X_val, y_val, p_val = X_train_valid[val_fold[k]], y_train_valid[val_fold[k]], person_train_valid[val_fold[k]]\n",
    "    mu = np.mean(X_train, axis=(0,2), keepdims = True) \n",
    "    std = np.std(X_train, axis=(0,2), keepdims = True)\n",
    "    X_train = standardize(X_train, mu, std)\n",
    "    X_val = standardize(X_val, mu, std)\n",
    "    X_train, y_train, p_train = Aug_Data(X_train, y_train, p_train, aug_type=aug_type, window_size=window_size)\n",
    "    if aug_type != 'window':\n",
    "        X_val, y_val, p_val = Aug_Data(X_val, y_val, p_val, aug_type=aug_type)\n",
    "    EEG_trainset = EEG_Dataset(X_train=X_train, y_train=y_train, p_train=p_train, mode='train')\n",
    "    EEG_trainloader = DataLoader(EEG_trainset, batch_size=128, shuffle=True)\n",
    "    EEG_valset = EEG_Dataset(X_val=X_val, y_val=y_val, p_val=p_val, mode='val')\n",
    "    EEG_valloader = DataLoader(EEG_valset, batch_size=128, shuffle=False)\n",
    "    best_model = TrainValRNN(model, criterion, optimizer, EEG_trainloader, EEG_valloader, num_epochs=20, aug_type=aug_type, window_size=window_size, vote_num=vote_num)\n"
   ]
  },
  {
   "cell_type": "markdown",
   "execution_count": null,
   "metadata": {},
   "outputs": [],
   "source": [
    "### Training and Testing"
   ]
  },
  {
   "cell_type": "code",
   "execution_count": 8,
   "metadata": {},
   "outputs": [
    {
     "name": "stdout",
     "output_type": "stream",
     "text": "Testing Accuracy: 0.4763\n"
    }
   ],
   "source": [
    "X_test = standardize(X_test, mu, std)\n",
    "TestRNN(best_model, X_test, y_test, person_test, aug_type=aug_type, window_size=window_size, vote_num=vote_num)"
   ]
  },
  {
   "cell_type": "code",
   "execution_count": null,
   "metadata": {},
   "outputs": [],
   "source": []
  }
 ]
}