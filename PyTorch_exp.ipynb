{
 "cells": [
  {
   "cell_type": "code",
   "execution_count": 1,
   "metadata": {},
   "outputs": [],
   "source": [
    "import numpy as np\n",
    "import torch\n",
    "import torch.nn as nn"
   ]
  },
  {
   "cell_type": "code",
   "execution_count": 2,
   "metadata": {},
   "outputs": [],
   "source": [
    "import numpy as np\n",
    "X_test = np.load(\"X_test.npy\")\n",
    "y_test = np.load(\"y_test.npy\")\n",
    "person_train_valid = np.load(\"person_train_valid.npy\")\n",
    "X_train_valid = np.load(\"X_train_valid.npy\")\n",
    "y_train_valid = np.load(\"y_train_valid.npy\")\n",
    "person_test = np.load(\"person_test.npy\")\n"
   ]
  },
  {
   "cell_type": "markdown",
   "metadata": {},
   "source": [
    "### Shape of data"
   ]
  },
  {
   "cell_type": "code",
   "execution_count": 17,
   "metadata": {},
   "outputs": [
    {
     "name": "stdout",
     "output_type": "stream",
     "text": "Training/Valid data shape: (2115, 22, 1000)\nTest data shape: (443, 22, 1000)\nTraining/Valid target shape: (2115,)\nTest target shape: (443,)\nPerson train/valid shape: (2115, 1)\nPerson test shape: (443, 1)\n"
    }
   ],
   "source": [
    "print ('Training/Valid data shape: {}'.format(X_train_valid.shape))\n",
    "print ('Test data shape: {}'.format(X_test.shape))\n",
    "print ('Training/Valid target shape: {}'.format(y_train_valid.shape))\n",
    "print ('Test target shape: {}'.format(y_test.shape))\n",
    "print ('Person train/valid shape: {}'.format(person_train_valid.shape))\n",
    "print ('Person test shape: {}'.format(person_test.shape))\n"
   ]
  },
  {
   "cell_type": "code",
   "execution_count": 19,
   "metadata": {},
   "outputs": [
    {
     "data": {
      "text/plain": "-98.828125"
     },
     "execution_count": 19,
     "metadata": {},
     "output_type": "execute_result"
    }
   ],
   "source": [
    "np.min(X_train_valid)"
   ]
  },
  {
   "cell_type": "code",
   "execution_count": 5,
   "metadata": {},
   "outputs": [
    {
     "data": {
      "text/plain": "array([769, 770, 771, 772], dtype=int32)"
     },
     "execution_count": 5,
     "metadata": {},
     "output_type": "execute_result"
    }
   ],
   "source": [
    "np.unique(y_test)"
   ]
  },
  {
   "cell_type": "code",
   "execution_count": 7,
   "metadata": {},
   "outputs": [
    {
     "data": {
      "text/plain": "array([0., 1., 2., 3., 4., 5., 6., 7., 8.])"
     },
     "execution_count": 7,
     "metadata": {},
     "output_type": "execute_result"
    }
   ],
   "source": [
    "np.unique(person_test)"
   ]
  },
  {
   "cell_type": "markdown",
   "metadata": {},
   "source": [
    "### A LSTM Example by PyTorch"
   ]
  },
  {
   "cell_type": "code",
   "execution_count": 31,
   "metadata": {},
   "outputs": [],
   "source": [
    "import torch\n",
    "rnn = torch.nn.LSTM(input_size=10, hidden_size=20, num_layers=2) \n",
    "input = torch.randn(5, 3, 10) # (seq_len, batch, input_size)\n",
    "#h0 = torch.randn(2, 3, 20) # (num_layers * num_directions, batch, hidden_size)\n",
    "#c0 = torch.randn(2, 3, 20) # (num_layers * num_directions, batch, hidden_size)\n",
    "output, (hn, cn) = rnn(input)"
   ]
  },
  {
   "cell_type": "code",
   "execution_count": 12,
   "metadata": {},
   "outputs": [
    {
     "data": {
      "text/plain": "torch.Size([2, 3, 20])"
     },
     "execution_count": 12,
     "metadata": {},
     "output_type": "execute_result"
    }
   ],
   "source": [
    "hn.size()"
   ]
  },
  {
   "cell_type": "markdown",
   "metadata": {},
   "source": [
    "### PyTorch Dataloader for EEG data\n",
    "\n",
    "\n",
    "\n"
   ]
  },
  {
   "cell_type": "code",
   "execution_count": 4,
   "metadata": {},
   "outputs": [],
   "source": [
    "from torch.utils.data import Dataset, DataLoader"
   ]
  },
  {
   "cell_type": "code",
   "execution_count": 5,
   "metadata": {},
   "outputs": [],
   "source": [
    "class EEG_Dataset(Dataset):\n",
    "    def __init__ (self, mode='train'):\n",
    "        if mode == 'train':\n",
    "            self.eeg_seq = np.load('X_train_valid.npy')\n",
    "            label = np.load('y_train_valid.npy')\n",
    "            self.person_id = np.load('person_train_valid.npy')\n",
    "        else:\n",
    "            self.eeg_seq = np.load('X_test.npy')\n",
    "            label = np.load('y_test.npy')\n",
    "            self.person_id = np.load('person_test.npy')\n",
    "        self.label = label - 769 \n",
    "\n",
    "    def __len__(self):\n",
    "        return ((self.eeg_seq).shape[0])\n",
    "    \n",
    "    def __getitem__(self, idx):\n",
    "        eeg_seq = torch.from_numpy(self.eeg_seq[idx,:,:]).float()\n",
    "        label = torch.tensor(self.label[idx]).long()\n",
    "        person_id = torch.from_numpy(self.person_id[idx,:]).long()     \n",
    "        sample = {'eeg_seq': eeg_seq, 'label': label, 'person_id': person_id}\n",
    "\n",
    "        return sample\n",
    "\n"
   ]
  },
  {
   "cell_type": "code",
   "execution_count": 16,
   "metadata": {},
   "outputs": [
    {
     "name": "stdout",
     "output_type": "stream",
     "text": "0\ntorch.Size([1000, 128, 22])\ntorch.Size([128])\n1\ntorch.Size([1000, 128, 22])\ntorch.Size([128])\n2\ntorch.Size([1000, 128, 22])\ntorch.Size([128])\n3\ntorch.Size([1000, 128, 22])\ntorch.Size([128])\n4\ntorch.Size([1000, 128, 22])\ntorch.Size([128])\n5\ntorch.Size([1000, 128, 22])\ntorch.Size([128])\n6\ntorch.Size([1000, 128, 22])\ntorch.Size([128])\n7\ntorch.Size([1000, 128, 22])\ntorch.Size([128])\n8\ntorch.Size([1000, 128, 22])\ntorch.Size([128])\n9\ntorch.Size([1000, 128, 22])\ntorch.Size([128])\n10\ntorch.Size([1000, 128, 22])\ntorch.Size([128])\n11\ntorch.Size([1000, 128, 22])\ntorch.Size([128])\n12\ntorch.Size([1000, 128, 22])\ntorch.Size([128])\n13\ntorch.Size([1000, 128, 22])\ntorch.Size([128])\n14\ntorch.Size([1000, 128, 22])\ntorch.Size([128])\n15\ntorch.Size([1000, 128, 22])\ntorch.Size([128])\n16\ntorch.Size([1000, 67, 22])\ntorch.Size([67])\n"
    }
   ],
   "source": [
    "EEG_trainset = EEG_Dataset(mode='train')\n",
    "EEG_trainloader = DataLoader(EEG_trainset, batch_size=128, shuffle=True)\n",
    "EEG_testset = EEG_Dataset(mode='test')\n",
    "EEG_testloader = DataLoader(EEG_testset, batch_size=128, shuffle=True)\n",
    "\n",
    "for idx, batch in enumerate(EEG_trainloader):\n",
    "    print (idx)\n",
    "    eeg_seq = batch['eeg_seq'].permute(2,0,1)\n",
    "    print (eeg_seq.size())\n",
    "    print (batch['label'].size())\n",
    "    #print (batch['person_id'])\n",
    "\n"
   ]
  },
  {
   "cell_type": "markdown",
   "metadata": {},
   "source": [
    "### Use LSTM + FC to perform classification"
   ]
  },
  {
   "cell_type": "code",
   "execution_count": 22,
   "metadata": {},
   "outputs": [
    {
     "name": "stdout",
     "output_type": "stream",
     "text": "epoch:1\nacc:0.24397163120567375\nloss:23.791213154792786\nepoch:2\nacc:0.30023640661938533\nloss:23.270862936973572\nepoch:3\nacc:0.3621749408983452\nloss:22.97537386417389\nepoch:4\nacc:0.37446808510638296\nloss:22.785637974739075\nepoch:5\nacc:0.3806146572104019\nloss:22.579501390457153\nepoch:6\nacc:0.4198581560283688\nloss:22.32511603832245\nepoch:7\nacc:0.43215130023640663\nloss:22.053317546844482\nepoch:8\nacc:0.44633569739952716\nloss:21.77304756641388\nepoch:9\nacc:0.4846335697399527\nloss:21.460769534111023\nepoch:10\nacc:0.4879432624113475\nloss:21.124024033546448\nepoch:11\nacc:0.5054373522458628\nloss:20.71548843383789\nepoch:12\nacc:0.5257683215130023\nloss:20.330275654792786\nepoch:13\nacc:0.5361702127659574\nloss:19.921437978744507\nepoch:14\nacc:0.5673758865248227\nloss:19.326773524284363\nepoch:15\nacc:0.6\nloss:18.719125032424927\nepoch:16\nacc:0.6099290780141844\nloss:18.1285303235054\nepoch:17\nacc:0.6368794326241135\nloss:17.40804785490036\nepoch:18\nacc:0.6468085106382979\nloss:16.96203923225403\nepoch:19\nacc:0.6737588652482269\nloss:16.205884516239166\nepoch:20\nacc:0.6931442080378251\nloss:15.57650476694107\n"
    }
   ],
   "source": [
    "class model(nn.Module):\n",
    "    def __init__(self, input_size, hidden_size, class_num):\n",
    "        super().__init__()\n",
    "        self.rnn = nn.LSTM(input_size=input_size, hidden_size=hidden_size, num_layers=1, dropout=0.5)\n",
    "        self.fc = nn.Linear(hidden_size, class_num)\n",
    "\n",
    "    def forward(self, x):\n",
    "        _, (hn, cn) = self.rnn(x)\n",
    "        out = self.fc(torch.squeeze(hn))\n",
    "        return out\n",
    "\n",
    "device = torch.device('cuda:4' if torch.cuda.is_available() else 'cpu')\n",
    "model = model(input_size=22, hidden_size=100, class_num=4).to(device)\n",
    "\n",
    "criterion = nn.CrossEntropyLoss()\n",
    "optimizer = torch.optim.Adam(model.parameters(), lr = 1e-3)\n",
    "\n",
    "EEG_trainset = EEG_Dataset(mode='train')\n",
    "EEG_trainloader = DataLoader(EEG_trainset, batch_size=128, shuffle=True)\n",
    "EEG_testset = EEG_Dataset(mode='test')\n",
    "EEG_testloader = DataLoader(EEG_testset, batch_size=128, shuffle=False)\n",
    "\n",
    "epoch = 20\n",
    "for i in range (epoch):\n",
    "    print ('epoch:{}'.format(i+1))\n",
    "    running_loss = 0.0\n",
    "    total = 0\n",
    "    correct = 0\n",
    "    for idx, batch in enumerate(EEG_trainloader):\n",
    "        eeg_seq = batch['eeg_seq'].permute(2,0,1).to(device)\n",
    "        label = batch['label'].to(device)\n",
    "        optimizer.zero_grad()\n",
    "        output= model(eeg_seq)\n",
    "        loss = criterion(output, label)\n",
    "        running_loss += loss.item()\n",
    "        loss.backward()                \n",
    "        optimizer.step()\n",
    "        pred = torch.argmax(output, dim=1)\n",
    "        correct += torch.sum(pred == label).item()\n",
    "        total += label.shape[0]\n",
    "    print ('acc:{}'.format(correct/total))\n",
    "    print ('loss:{}'.format(running_loss))\n"
   ]
  },
  {
   "cell_type": "code",
   "execution_count": 24,
   "metadata": {},
   "outputs": [
    {
     "name": "stdout",
     "output_type": "stream",
     "text": "acc:0.25733634311512416\n"
    }
   ],
   "source": [
    "running_loss = 0.0\n",
    "total = 0\n",
    "correct = 0\n",
    "for idx, batch in enumerate(EEG_testloader):\n",
    "    eeg_seq = batch['eeg_seq'].permute(2,0,1).to(device)\n",
    "    label = batch['label'].to(device)\n",
    "    output= model(eeg_seq)\n",
    "    pred = torch.argmax(output, dim=1)\n",
    "    correct += torch.sum(pred == label).item()\n",
    "    total += label.shape[0]\n",
    "print ('acc:{}'.format(correct/total))\n",
    "#print ('loss:{}'.format(running_loss))"
   ]
  },
  {
   "cell_type": "code",
   "execution_count": null,
   "metadata": {},
   "outputs": [],
   "source": []
  }
 ],
 "metadata": {
  "kernelspec": {
   "display_name": "Python 3.6.10 64-bit ('ee247': conda)",
   "language": "python",
   "name": "python361064bitee247conda2f15fa1c8e864ba0bbee8e7adf578eb0"
  },
  "language_info": {
   "codemirror_mode": {
    "name": "ipython",
    "version": 2
   },
   "file_extension": ".py",
   "mimetype": "text/x-python",
   "name": "python",
   "nbconvert_exporter": "python",
   "pygments_lexer": "ipython2",
   "version": "3.6.10-final"
  }
 },
 "nbformat": 4,
 "nbformat_minor": 2
}